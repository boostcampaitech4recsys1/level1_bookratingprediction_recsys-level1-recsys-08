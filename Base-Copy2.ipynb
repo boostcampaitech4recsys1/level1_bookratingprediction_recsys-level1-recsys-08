{
 "cells": [
  {
   "cell_type": "code",
   "execution_count": 2,
   "id": "8fc2f4a7-5187-4e52-afbe-7c20267db8c8",
   "metadata": {},
   "outputs": [],
   "source": [
    "import numpy as np\n",
    "import pandas as pd\n",
    "from sklearn.model_selection import train_test_split\n",
    "import torch\n",
    "import torch.nn as nn\n",
    "from torch.utils.data import TensorDataset, DataLoader, Dataset\n",
    "import seaborn as sns\n",
    "import matplotlib.pyplot as plt"
   ]
  },
  {
   "cell_type": "code",
   "execution_count": 3,
   "id": "86f4371a-9021-41e2-8dd2-14ea9b498d89",
   "metadata": {},
   "outputs": [],
   "source": [
    "users = pd.read_csv('./data/' + 'users.csv')\n",
    "books = pd.read_csv('./data/' + 'books.csv')\n",
    "train = pd.read_csv('./data/' + 'train_ratings.csv')\n",
    "test = pd.read_csv('./data/' + 'test_ratings.csv')\n",
    "sub = pd.read_csv('./data/' + 'sample_submission.csv')"
   ]
  },
  {
   "cell_type": "code",
   "execution_count": 30,
   "id": "cecb6f13-9063-4f2d-b1e6-40eeb139ac4a",
   "metadata": {},
   "outputs": [],
   "source": [
    "cnt_isbn_rating = train.groupby('isbn')['rating'].count()"
   ]
  },
  {
   "cell_type": "code",
   "execution_count": 32,
   "id": "a8bc9341-1488-41a5-abf8-1ed71aed54ab",
   "metadata": {},
   "outputs": [
    {
     "data": {
      "text/html": [
       "<div>\n",
       "<style scoped>\n",
       "    .dataframe tbody tr th:only-of-type {\n",
       "        vertical-align: middle;\n",
       "    }\n",
       "\n",
       "    .dataframe tbody tr th {\n",
       "        vertical-align: top;\n",
       "    }\n",
       "\n",
       "    .dataframe thead th {\n",
       "        text-align: right;\n",
       "    }\n",
       "</style>\n",
       "<table border=\"1\" class=\"dataframe\">\n",
       "  <thead>\n",
       "    <tr style=\"text-align: right;\">\n",
       "      <th></th>\n",
       "      <th>rating</th>\n",
       "    </tr>\n",
       "    <tr>\n",
       "      <th>isbn</th>\n",
       "      <th></th>\n",
       "    </tr>\n",
       "  </thead>\n",
       "  <tbody>\n",
       "    <tr>\n",
       "      <th>0000913154</th>\n",
       "      <td>1</td>\n",
       "    </tr>\n",
       "    <tr>\n",
       "      <th>000104687X</th>\n",
       "      <td>1</td>\n",
       "    </tr>\n",
       "    <tr>\n",
       "      <th>0001047213</th>\n",
       "      <td>1</td>\n",
       "    </tr>\n",
       "    <tr>\n",
       "      <th>0001047973</th>\n",
       "      <td>2</td>\n",
       "    </tr>\n",
       "    <tr>\n",
       "      <th>000104799X</th>\n",
       "      <td>1</td>\n",
       "    </tr>\n",
       "    <tr>\n",
       "      <th>...</th>\n",
       "      <td>...</td>\n",
       "    </tr>\n",
       "    <tr>\n",
       "      <th>B0001FZGBC</th>\n",
       "      <td>1</td>\n",
       "    </tr>\n",
       "    <tr>\n",
       "      <th>B0001FZGPI</th>\n",
       "      <td>1</td>\n",
       "    </tr>\n",
       "    <tr>\n",
       "      <th>B0001FZGRQ</th>\n",
       "      <td>1</td>\n",
       "    </tr>\n",
       "    <tr>\n",
       "      <th>B0001GMSV2</th>\n",
       "      <td>2</td>\n",
       "    </tr>\n",
       "    <tr>\n",
       "      <th>B000234N3A</th>\n",
       "      <td>1</td>\n",
       "    </tr>\n",
       "  </tbody>\n",
       "</table>\n",
       "<p>129777 rows × 1 columns</p>\n",
       "</div>"
      ],
      "text/plain": [
       "            rating\n",
       "isbn              \n",
       "0000913154       1\n",
       "000104687X       1\n",
       "0001047213       1\n",
       "0001047973       2\n",
       "000104799X       1\n",
       "...            ...\n",
       "B0001FZGBC       1\n",
       "B0001FZGPI       1\n",
       "B0001FZGRQ       1\n",
       "B0001GMSV2       2\n",
       "B000234N3A       1\n",
       "\n",
       "[129777 rows x 1 columns]"
      ]
     },
     "execution_count": 32,
     "metadata": {},
     "output_type": "execute_result"
    }
   ],
   "source": [
    "# cnt_isbn_rating = cnt_isbn_rating.to_frame()\n",
    "cnt_isbn_rating"
   ]
  },
  {
   "cell_type": "code",
   "execution_count": 12,
   "id": "82d4df8b-6634-4e31-8116-c68bcaa3bcb7",
   "metadata": {},
   "outputs": [
    {
     "data": {
      "text/plain": [
       "88392"
      ]
     },
     "execution_count": 12,
     "metadata": {},
     "output_type": "execute_result"
    }
   ],
   "source": [
    "len(cnt_isbn_rating[cnt_isbn_rating['rating'] <= 1])"
   ]
  },
  {
   "cell_type": "code",
   "execution_count": 13,
   "id": "015f862b-8c86-4d93-8498-b443939e9985",
   "metadata": {},
   "outputs": [
    {
     "data": {
      "text/plain": [
       "129777"
      ]
     },
     "execution_count": 13,
     "metadata": {},
     "output_type": "execute_result"
    }
   ],
   "source": [
    "len(cnt_isbn_rating)"
   ]
  },
  {
   "cell_type": "code",
   "execution_count": 14,
   "id": "f04a79a6-d8ae-4342-baa1-3ad0bc54d76e",
   "metadata": {},
   "outputs": [
    {
     "data": {
      "text/plain": [
       "0.6811068217018424"
      ]
     },
     "execution_count": 14,
     "metadata": {},
     "output_type": "execute_result"
    }
   ],
   "source": [
    "88392/129777"
   ]
  },
  {
   "cell_type": "code",
   "execution_count": 33,
   "id": "5f11e0aa-ba15-4eab-802b-e57959888885",
   "metadata": {},
   "outputs": [],
   "source": [
    "delete_isbn = cnt_isbn_rating[cnt_isbn_rating['rating'] <= 1].index"
   ]
  },
  {
   "cell_type": "code",
   "execution_count": 34,
   "id": "1b6a700e-60f5-4a71-8b81-6f05fa67df80",
   "metadata": {},
   "outputs": [
    {
     "data": {
      "text/plain": [
       "Index(['0000913154', '000104687X', '0001047213', '000104799X', '0001053736',\n",
       "       '0001053744', '0001055607', '0001061127', '0001360469', '0001374869',\n",
       "       ...\n",
       "       'B0000VZEJQ', 'B0000X8HIE', 'B00011SOXI', 'B00013AX9E', 'B00014WRH4',\n",
       "       'B00019U4II', 'B0001FZGBC', 'B0001FZGPI', 'B0001FZGRQ', 'B000234N3A'],\n",
       "      dtype='object', name='isbn', length=88392)"
      ]
     },
     "execution_count": 34,
     "metadata": {},
     "output_type": "execute_result"
    }
   ],
   "source": [
    "delete_isbn"
   ]
  },
  {
   "cell_type": "code",
   "execution_count": 39,
   "id": "7628f73a-f05b-420e-ab45-f9f10b5da776",
   "metadata": {
    "tags": []
   },
   "outputs": [],
   "source": [
    "index_isbn_df = train.set_index(keys=['isbn'], inplace=False)"
   ]
  },
  {
   "cell_type": "code",
   "execution_count": 44,
   "id": "38b44e67-9f06-4621-8196-cf9ab226528d",
   "metadata": {},
   "outputs": [
    {
     "data": {
      "text/html": [
       "<div>\n",
       "<style scoped>\n",
       "    .dataframe tbody tr th:only-of-type {\n",
       "        vertical-align: middle;\n",
       "    }\n",
       "\n",
       "    .dataframe tbody tr th {\n",
       "        vertical-align: top;\n",
       "    }\n",
       "\n",
       "    .dataframe thead th {\n",
       "        text-align: right;\n",
       "    }\n",
       "</style>\n",
       "<table border=\"1\" class=\"dataframe\">\n",
       "  <thead>\n",
       "    <tr style=\"text-align: right;\">\n",
       "      <th></th>\n",
       "      <th>user_id</th>\n",
       "      <th>rating</th>\n",
       "    </tr>\n",
       "    <tr>\n",
       "      <th>isbn</th>\n",
       "      <th></th>\n",
       "      <th></th>\n",
       "    </tr>\n",
       "  </thead>\n",
       "  <tbody>\n",
       "    <tr>\n",
       "      <th>0002005018</th>\n",
       "      <td>8</td>\n",
       "      <td>4</td>\n",
       "    </tr>\n",
       "    <tr>\n",
       "      <th>0002005018</th>\n",
       "      <td>67544</td>\n",
       "      <td>7</td>\n",
       "    </tr>\n",
       "    <tr>\n",
       "      <th>0002005018</th>\n",
       "      <td>123629</td>\n",
       "      <td>8</td>\n",
       "    </tr>\n",
       "    <tr>\n",
       "      <th>0002005018</th>\n",
       "      <td>200273</td>\n",
       "      <td>8</td>\n",
       "    </tr>\n",
       "    <tr>\n",
       "      <th>0002005018</th>\n",
       "      <td>210926</td>\n",
       "      <td>9</td>\n",
       "    </tr>\n",
       "    <tr>\n",
       "      <th>...</th>\n",
       "      <td>...</td>\n",
       "      <td>...</td>\n",
       "    </tr>\n",
       "    <tr>\n",
       "      <th>1853045616</th>\n",
       "      <td>272482</td>\n",
       "      <td>10</td>\n",
       "    </tr>\n",
       "    <tr>\n",
       "      <th>0312273150</th>\n",
       "      <td>272715</td>\n",
       "      <td>10</td>\n",
       "    </tr>\n",
       "    <tr>\n",
       "      <th>0312273150</th>\n",
       "      <td>276263</td>\n",
       "      <td>3</td>\n",
       "    </tr>\n",
       "    <tr>\n",
       "      <th>0689822855</th>\n",
       "      <td>275825</td>\n",
       "      <td>7</td>\n",
       "    </tr>\n",
       "    <tr>\n",
       "      <th>0689822855</th>\n",
       "      <td>276560</td>\n",
       "      <td>8</td>\n",
       "    </tr>\n",
       "  </tbody>\n",
       "</table>\n",
       "<p>218403 rows × 2 columns</p>\n",
       "</div>"
      ],
      "text/plain": [
       "            user_id  rating\n",
       "isbn                       \n",
       "0002005018        8       4\n",
       "0002005018    67544       7\n",
       "0002005018   123629       8\n",
       "0002005018   200273       8\n",
       "0002005018   210926       9\n",
       "...             ...     ...\n",
       "1853045616   272482      10\n",
       "0312273150   272715      10\n",
       "0312273150   276263       3\n",
       "0689822855   275825       7\n",
       "0689822855   276560       8\n",
       "\n",
       "[218403 rows x 2 columns]"
      ]
     },
     "execution_count": 44,
     "metadata": {},
     "output_type": "execute_result"
    }
   ],
   "source": [
    "index_isbn_df.drop(delete_isbn, axis=0, inplace=True)\n",
    "index_isbn_df"
   ]
  },
  {
   "cell_type": "code",
   "execution_count": 47,
   "id": "5900f01c-6990-4ff3-bdc9-242edef3debd",
   "metadata": {},
   "outputs": [],
   "source": [
    "train = index_isbn_df.reset_index().reindex(columns=['user_id','isbn','rating'])"
   ]
  },
  {
   "cell_type": "code",
   "execution_count": null,
   "id": "afc5ae82-c93c-4e0b-8042-7420f00f7b71",
   "metadata": {},
   "outputs": [],
   "source": []
  }
 ],
 "metadata": {
  "kernelspec": {
   "display_name": "Python 3.8.5 ('base')",
   "language": "python",
   "name": "python3"
  },
  "language_info": {
   "codemirror_mode": {
    "name": "ipython",
    "version": 3
   },
   "file_extension": ".py",
   "mimetype": "text/x-python",
   "name": "python",
   "nbconvert_exporter": "python",
   "pygments_lexer": "ipython3",
   "version": "3.8.5"
  },
  "vscode": {
   "interpreter": {
    "hash": "d4d1e4263499bec80672ea0156c357c1ee493ec2b1c70f0acce89fc37c4a6abe"
   }
  }
 },
 "nbformat": 4,
 "nbformat_minor": 5
}
