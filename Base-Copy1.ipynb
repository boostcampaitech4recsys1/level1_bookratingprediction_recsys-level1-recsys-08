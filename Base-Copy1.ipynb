{
 "cells": [
  {
   "cell_type": "code",
   "execution_count": 1,
   "id": "8fc2f4a7-5187-4e52-afbe-7c20267db8c8",
   "metadata": {},
   "outputs": [],
   "source": [
    "import numpy as np\n",
    "import pandas as pd\n",
    "from sklearn.model_selection import train_test_split\n",
    "import torch\n",
    "import torch.nn as nn\n",
    "from torch.utils.data import TensorDataset, DataLoader, Dataset\n",
    "import seaborn as sns\n",
    "import matplotlib.pyplot as plt"
   ]
  },
  {
   "cell_type": "code",
   "execution_count": 2,
   "id": "86f4371a-9021-41e2-8dd2-14ea9b498d89",
   "metadata": {},
   "outputs": [],
   "source": [
    "users = pd.read_csv('./data/' + 'users.csv')\n",
    "books = pd.read_csv('./data/' + 'books.csv')\n",
    "train = pd.read_csv('./data/' + 'train_ratings.csv')\n",
    "test = pd.read_csv('./data/' + 'test_ratings.csv')\n",
    "sub = pd.read_csv('./data/' + 'sample_submission.csv')"
   ]
  },
  {
   "cell_type": "code",
   "execution_count": 3,
   "id": "cecb6f13-9063-4f2d-b1e6-40eeb139ac4a",
   "metadata": {},
   "outputs": [],
   "source": [
    "test_df = train.merge(users, how=\"left\", on='user_id')\n",
    "test_df = test_df.merge(books, how=\"left\", on='isbn')"
   ]
  },
  {
   "cell_type": "code",
   "execution_count": 7,
   "id": "63772f65-0b06-49bd-8be5-4731737f821d",
   "metadata": {},
   "outputs": [
    {
     "data": {
      "text/plain": [
       "0.12735147066200692"
      ]
     },
     "execution_count": 7,
     "metadata": {},
     "output_type": "execute_result"
    }
   ],
   "source": [
    "test_df[test_df['rating']==1]['user_id'].nunique() / len(set(test_df['user_id']))"
   ]
  },
  {
   "cell_type": "code",
   "execution_count": 67,
   "id": "a9888924-400b-4a7e-88ca-95f94c004869",
   "metadata": {},
   "outputs": [],
   "source": [
    "pd.set_option('display.max_rows', 50)"
   ]
  },
  {
   "cell_type": "code",
   "execution_count": 63,
   "id": "47517529-d0f5-4de2-9c13-1c954b08bf2d",
   "metadata": {},
   "outputs": [
    {
     "data": {
      "text/plain": [
       "isbn\n",
       "0316666343    566\n",
       "0971880107    465\n",
       "0385504209    390\n",
       "0312195516    307\n",
       "0060928336    256\n",
       "             ... \n",
       "0520060199      1\n",
       "0520059808      1\n",
       "0520058852      1\n",
       "0520058763      1\n",
       "B000234N3A      1\n",
       "Name: rating, Length: 129777, dtype: int64"
      ]
     },
     "execution_count": 63,
     "metadata": {},
     "output_type": "execute_result"
    }
   ],
   "source": [
    "test_df.groupby('isbn')['rating'].count().sort_values(ascending=False)"
   ]
  },
  {
   "cell_type": "code",
   "execution_count": 69,
   "id": "8f893b39-ef92-4ad3-88c7-f525cc402aa4",
   "metadata": {},
   "outputs": [],
   "source": [
    "one_df = test_df[test_df['rating']==1]\n",
    "one_book_df = one_df.groupby('isbn')['user_id'].count()"
   ]
  },
  {
   "cell_type": "code",
   "execution_count": 70,
   "id": "a20673cd-c102-424c-b480-617ce41600b5",
   "metadata": {
    "tags": []
   },
   "outputs": [
    {
     "data": {
      "text/plain": [
       "isbn\n",
       "0002231352    1\n",
       "0002237857    1\n",
       "0002243016    1\n",
       "0002243962    1\n",
       "0002550563    1\n",
       "             ..\n",
       "9972847012    1\n",
       "9992059958    1\n",
       "9999980538    1\n",
       "B0000C7BNG    1\n",
       "B0000T6KIM    1\n",
       "Name: user_id, Length: 10613, dtype: int64"
      ]
     },
     "execution_count": 70,
     "metadata": {},
     "output_type": "execute_result"
    }
   ],
   "source": [
    "one_book_df"
   ]
  },
  {
   "cell_type": "code",
   "execution_count": 27,
   "id": "e156ae6a-933b-4fe6-b71d-939de604f450",
   "metadata": {},
   "outputs": [
    {
     "data": {
      "text/plain": [
       "1     244\n",
       "6      47\n",
       "2      34\n",
       "7      34\n",
       "5      27\n",
       "8      27\n",
       "4      20\n",
       "3      15\n",
       "9      11\n",
       "10      6\n",
       "Name: rating, dtype: int64"
      ]
     },
     "execution_count": 27,
     "metadata": {},
     "output_type": "execute_result"
    }
   ],
   "source": [
    "test_df[test_df['isbn']=='0971880107']['rating'].value_counts()"
   ]
  },
  {
   "cell_type": "code",
   "execution_count": 29,
   "id": "df7f50f2-d755-44d7-af8f-8b818a72674d",
   "metadata": {},
   "outputs": [
    {
     "data": {
      "text/plain": [
       "465"
      ]
     },
     "execution_count": 29,
     "metadata": {},
     "output_type": "execute_result"
    }
   ],
   "source": [
    "test_df[test_df['isbn']=='0971880107']['rating'].count()"
   ]
  },
  {
   "cell_type": "code",
   "execution_count": 30,
   "id": "d84b5c6c-8ee3-4d16-ac92-307326afec90",
   "metadata": {},
   "outputs": [
    {
     "data": {
      "text/plain": [
       "0.524731182795699"
      ]
     },
     "execution_count": 30,
     "metadata": {},
     "output_type": "execute_result"
    }
   ],
   "source": [
    "244/465 #'0971880107'책에 대해 52프로가 1점을 주었다."
   ]
  },
  {
   "cell_type": "code",
   "execution_count": 50,
   "id": "e7740363-74de-43f5-9705-65d3969701b9",
   "metadata": {},
   "outputs": [
    {
     "data": {
      "text/html": [
       "<div>\n",
       "<style scoped>\n",
       "    .dataframe tbody tr th:only-of-type {\n",
       "        vertical-align: middle;\n",
       "    }\n",
       "\n",
       "    .dataframe tbody tr th {\n",
       "        vertical-align: top;\n",
       "    }\n",
       "\n",
       "    .dataframe thead th {\n",
       "        text-align: right;\n",
       "    }\n",
       "</style>\n",
       "<table border=\"1\" class=\"dataframe\">\n",
       "  <thead>\n",
       "    <tr style=\"text-align: right;\">\n",
       "      <th></th>\n",
       "      <th>user_id</th>\n",
       "      <th>isbn</th>\n",
       "      <th>rating</th>\n",
       "      <th>location</th>\n",
       "      <th>age</th>\n",
       "      <th>book_title</th>\n",
       "      <th>book_author</th>\n",
       "      <th>year_of_publication</th>\n",
       "      <th>publisher</th>\n",
       "      <th>img_url</th>\n",
       "      <th>language</th>\n",
       "      <th>category</th>\n",
       "      <th>summary</th>\n",
       "      <th>img_path</th>\n",
       "    </tr>\n",
       "  </thead>\n",
       "  <tbody>\n",
       "    <tr>\n",
       "      <th>201902</th>\n",
       "      <td>186850</td>\n",
       "      <td>044109418X</td>\n",
       "      <td>1</td>\n",
       "      <td>wixom, michigan, usa</td>\n",
       "      <td>NaN</td>\n",
       "      <td>Castle Perilous</td>\n",
       "      <td>John De Chancie</td>\n",
       "      <td>1988.0</td>\n",
       "      <td>Ace Books</td>\n",
       "      <td>http://images.amazon.com/images/P/044109418X.0...</td>\n",
       "      <td>NaN</td>\n",
       "      <td>NaN</td>\n",
       "      <td>NaN</td>\n",
       "      <td>images/044109418X.01.THUMBZZZ.jpg</td>\n",
       "    </tr>\n",
       "  </tbody>\n",
       "</table>\n",
       "</div>"
      ],
      "text/plain": [
       "        user_id        isbn  rating              location  age  \\\n",
       "201902   186850  044109418X       1  wixom, michigan, usa  NaN   \n",
       "\n",
       "             book_title      book_author  year_of_publication  publisher  \\\n",
       "201902  Castle Perilous  John De Chancie               1988.0  Ace Books   \n",
       "\n",
       "                                                  img_url language category  \\\n",
       "201902  http://images.amazon.com/images/P/044109418X.0...      NaN      NaN   \n",
       "\n",
       "       summary                           img_path  \n",
       "201902     NaN  images/044109418X.01.THUMBZZZ.jpg  "
      ]
     },
     "execution_count": 50,
     "metadata": {},
     "output_type": "execute_result"
    }
   ],
   "source": [
    "test_df[(test_df['isbn']=='044109418X') & (test_df['rating']==1)]"
   ]
  },
  {
   "cell_type": "code",
   "execution_count": 51,
   "id": "065d3614-7150-4329-8535-89f06db27cb1",
   "metadata": {},
   "outputs": [
    {
     "data": {
      "text/html": [
       "<div>\n",
       "<style scoped>\n",
       "    .dataframe tbody tr th:only-of-type {\n",
       "        vertical-align: middle;\n",
       "    }\n",
       "\n",
       "    .dataframe tbody tr th {\n",
       "        vertical-align: top;\n",
       "    }\n",
       "\n",
       "    .dataframe thead th {\n",
       "        text-align: right;\n",
       "    }\n",
       "</style>\n",
       "<table border=\"1\" class=\"dataframe\">\n",
       "  <thead>\n",
       "    <tr style=\"text-align: right;\">\n",
       "      <th></th>\n",
       "      <th>isbn</th>\n",
       "      <th>rating</th>\n",
       "      <th>category</th>\n",
       "      <th>book_author</th>\n",
       "    </tr>\n",
       "  </thead>\n",
       "  <tbody>\n",
       "    <tr>\n",
       "      <th>201902</th>\n",
       "      <td>044109418X</td>\n",
       "      <td>1</td>\n",
       "      <td>NaN</td>\n",
       "      <td>John De Chancie</td>\n",
       "    </tr>\n",
       "    <tr>\n",
       "      <th>243989</th>\n",
       "      <td>0425151905</td>\n",
       "      <td>2</td>\n",
       "      <td>NaN</td>\n",
       "      <td>Joseph Olshan</td>\n",
       "    </tr>\n",
       "    <tr>\n",
       "      <th>247240</th>\n",
       "      <td>0671578073</td>\n",
       "      <td>2</td>\n",
       "      <td>NaN</td>\n",
       "      <td>James P. Hogan</td>\n",
       "    </tr>\n",
       "    <tr>\n",
       "      <th>18543</th>\n",
       "      <td>0345369947</td>\n",
       "      <td>6</td>\n",
       "      <td>['Fiction']</td>\n",
       "      <td>Anne Rice</td>\n",
       "    </tr>\n",
       "  </tbody>\n",
       "</table>\n",
       "</div>"
      ],
      "text/plain": [
       "              isbn  rating     category      book_author\n",
       "201902  044109418X       1          NaN  John De Chancie\n",
       "243989  0425151905       2          NaN    Joseph Olshan\n",
       "247240  0671578073       2          NaN   James P. Hogan\n",
       "18543   0345369947       6  ['Fiction']        Anne Rice"
      ]
     },
     "execution_count": 51,
     "metadata": {},
     "output_type": "execute_result"
    }
   ],
   "source": [
    "test_df[test_df['user_id']==186850][['isbn','rating','category','book_author']].sort_values(by=['rating'], ascending=True)"
   ]
  },
  {
   "cell_type": "code",
   "execution_count": 87,
   "id": "d2f0358b-1617-4d5f-af69-f16278d1721c",
   "metadata": {},
   "outputs": [],
   "source": [
    "one_df = test_df[test_df['rating']==1]\n",
    "one_book_df = one_df.groupby('isbn')['user_id'].count()"
   ]
  },
  {
   "cell_type": "code",
   "execution_count": 89,
   "id": "da3539f4-4945-4d5d-9e87-5cb13a9f58eb",
   "metadata": {},
   "outputs": [
    {
     "data": {
      "text/plain": [
       "isbn\n",
       "0002231352    1\n",
       "0002237857    1\n",
       "0002243016    1\n",
       "0002243962    1\n",
       "0002550563    1\n",
       "             ..\n",
       "9972847012    1\n",
       "9992059958    1\n",
       "9999980538    1\n",
       "B0000C7BNG    1\n",
       "B0000T6KIM    1\n",
       "Name: user_id, Length: 10613, dtype: int64"
      ]
     },
     "execution_count": 89,
     "metadata": {},
     "output_type": "execute_result"
    }
   ],
   "source": [
    "one_book_df"
   ]
  },
  {
   "cell_type": "code",
   "execution_count": 101,
   "id": "05e16c79-346d-4744-8054-9148c6ef8b10",
   "metadata": {},
   "outputs": [],
   "source": [
    "count_df = test_df.groupby('isbn')['rating'].count()"
   ]
  },
  {
   "cell_type": "code",
   "execution_count": 102,
   "id": "48e796ed-4d59-41b1-b22e-259d44b5fbbf",
   "metadata": {},
   "outputs": [
    {
     "data": {
      "text/plain": [
       "isbn\n",
       "0000913154    1\n",
       "000104687X    1\n",
       "0001047213    1\n",
       "0001047973    2\n",
       "000104799X    1\n",
       "             ..\n",
       "B0001FZGBC    1\n",
       "B0001FZGPI    1\n",
       "B0001FZGRQ    1\n",
       "B0001GMSV2    2\n",
       "B000234N3A    1\n",
       "Name: rating, Length: 129777, dtype: int64"
      ]
     },
     "execution_count": 102,
     "metadata": {},
     "output_type": "execute_result"
    }
   ],
   "source": [
    "count_df"
   ]
  },
  {
   "cell_type": "code",
   "execution_count": 107,
   "id": "1ae13c78-82bb-4786-8e4c-3ad60e0d7239",
   "metadata": {},
   "outputs": [
    {
     "data": {
      "text/plain": [
       "rating    88392\n",
       "dtype: int64"
      ]
     },
     "execution_count": 107,
     "metadata": {},
     "output_type": "execute_result"
    }
   ],
   "source": [
    "# count_df = count_df.to_frame()\n",
    "count_df[count_df['rating'] <= 1].count()"
   ]
  },
  {
   "cell_type": "code",
   "execution_count": null,
   "id": "d1eced16-c639-4687-89f4-ae6298616322",
   "metadata": {},
   "outputs": [],
   "source": []
  },
  {
   "cell_type": "code",
   "execution_count": 91,
   "id": "0bce2b86-b637-47bc-a822-04d4c5ba054f",
   "metadata": {},
   "outputs": [
    {
     "data": {
      "text/html": [
       "<div>\n",
       "<style scoped>\n",
       "    .dataframe tbody tr th:only-of-type {\n",
       "        vertical-align: middle;\n",
       "    }\n",
       "\n",
       "    .dataframe tbody tr th {\n",
       "        vertical-align: top;\n",
       "    }\n",
       "\n",
       "    .dataframe thead th {\n",
       "        text-align: right;\n",
       "    }\n",
       "</style>\n",
       "<table border=\"1\" class=\"dataframe\">\n",
       "  <thead>\n",
       "    <tr style=\"text-align: right;\">\n",
       "      <th></th>\n",
       "      <th>user_id</th>\n",
       "      <th>rating</th>\n",
       "    </tr>\n",
       "    <tr>\n",
       "      <th>isbn</th>\n",
       "      <th></th>\n",
       "      <th></th>\n",
       "    </tr>\n",
       "  </thead>\n",
       "  <tbody>\n",
       "    <tr>\n",
       "      <th>0002231352</th>\n",
       "      <td>1</td>\n",
       "      <td>1</td>\n",
       "    </tr>\n",
       "    <tr>\n",
       "      <th>0002237857</th>\n",
       "      <td>1</td>\n",
       "      <td>1</td>\n",
       "    </tr>\n",
       "    <tr>\n",
       "      <th>0002243016</th>\n",
       "      <td>1</td>\n",
       "      <td>1</td>\n",
       "    </tr>\n",
       "    <tr>\n",
       "      <th>0002243962</th>\n",
       "      <td>1</td>\n",
       "      <td>3</td>\n",
       "    </tr>\n",
       "    <tr>\n",
       "      <th>0002550563</th>\n",
       "      <td>1</td>\n",
       "      <td>3</td>\n",
       "    </tr>\n",
       "    <tr>\n",
       "      <th>...</th>\n",
       "      <td>...</td>\n",
       "      <td>...</td>\n",
       "    </tr>\n",
       "    <tr>\n",
       "      <th>9972847012</th>\n",
       "      <td>1</td>\n",
       "      <td>1</td>\n",
       "    </tr>\n",
       "    <tr>\n",
       "      <th>9992059958</th>\n",
       "      <td>1</td>\n",
       "      <td>1</td>\n",
       "    </tr>\n",
       "    <tr>\n",
       "      <th>9999980538</th>\n",
       "      <td>1</td>\n",
       "      <td>1</td>\n",
       "    </tr>\n",
       "    <tr>\n",
       "      <th>B0000C7BNG</th>\n",
       "      <td>1</td>\n",
       "      <td>1</td>\n",
       "    </tr>\n",
       "    <tr>\n",
       "      <th>B0000T6KIM</th>\n",
       "      <td>1</td>\n",
       "      <td>1</td>\n",
       "    </tr>\n",
       "  </tbody>\n",
       "</table>\n",
       "<p>10613 rows × 2 columns</p>\n",
       "</div>"
      ],
      "text/plain": [
       "            user_id  rating\n",
       "isbn                       \n",
       "0002231352        1       1\n",
       "0002237857        1       1\n",
       "0002243016        1       1\n",
       "0002243962        1       3\n",
       "0002550563        1       3\n",
       "...             ...     ...\n",
       "9972847012        1       1\n",
       "9992059958        1       1\n",
       "9999980538        1       1\n",
       "B0000C7BNG        1       1\n",
       "B0000T6KIM        1       1\n",
       "\n",
       "[10613 rows x 2 columns]"
      ]
     },
     "execution_count": 91,
     "metadata": {},
     "output_type": "execute_result"
    }
   ],
   "source": [
    "one_ratio_df = one_book_df.to_frame().merge(count_df, how='left', on='isbn')"
   ]
  },
  {
   "cell_type": "code",
   "execution_count": 92,
   "id": "9c4e5f6f-7bfb-40c5-b967-0594fc87b0dd",
   "metadata": {},
   "outputs": [],
   "source": [
    "one_ratio_df['ratio'] = one_ratio_df['user_id']/one_ratio_df['rating']"
   ]
  },
  {
   "cell_type": "code",
   "execution_count": 99,
   "id": "252a6783-90a4-478e-9e93-ea16717cf6ee",
   "metadata": {},
   "outputs": [
    {
     "data": {
      "text/html": [
       "<div>\n",
       "<style scoped>\n",
       "    .dataframe tbody tr th:only-of-type {\n",
       "        vertical-align: middle;\n",
       "    }\n",
       "\n",
       "    .dataframe tbody tr th {\n",
       "        vertical-align: top;\n",
       "    }\n",
       "\n",
       "    .dataframe thead th {\n",
       "        text-align: right;\n",
       "    }\n",
       "</style>\n",
       "<table border=\"1\" class=\"dataframe\">\n",
       "  <thead>\n",
       "    <tr style=\"text-align: right;\">\n",
       "      <th></th>\n",
       "      <th>user_id</th>\n",
       "      <th>rating</th>\n",
       "      <th>ratio</th>\n",
       "    </tr>\n",
       "    <tr>\n",
       "      <th>isbn</th>\n",
       "      <th></th>\n",
       "      <th></th>\n",
       "      <th></th>\n",
       "    </tr>\n",
       "  </thead>\n",
       "  <tbody>\n",
       "    <tr>\n",
       "      <th>0743418174</th>\n",
       "      <td>1</td>\n",
       "      <td>188</td>\n",
       "      <td>0.005319</td>\n",
       "    </tr>\n",
       "    <tr>\n",
       "      <th>0345370775</th>\n",
       "      <td>1</td>\n",
       "      <td>160</td>\n",
       "      <td>0.006250</td>\n",
       "    </tr>\n",
       "    <tr>\n",
       "      <th>0804106304</th>\n",
       "      <td>1</td>\n",
       "      <td>156</td>\n",
       "      <td>0.006410</td>\n",
       "    </tr>\n",
       "    <tr>\n",
       "      <th>0345361792</th>\n",
       "      <td>1</td>\n",
       "      <td>145</td>\n",
       "      <td>0.006897</td>\n",
       "    </tr>\n",
       "    <tr>\n",
       "      <th>059035342X</th>\n",
       "      <td>2</td>\n",
       "      <td>251</td>\n",
       "      <td>0.007968</td>\n",
       "    </tr>\n",
       "    <tr>\n",
       "      <th>...</th>\n",
       "      <td>...</td>\n",
       "      <td>...</td>\n",
       "      <td>...</td>\n",
       "    </tr>\n",
       "    <tr>\n",
       "      <th>0590448811</th>\n",
       "      <td>1</td>\n",
       "      <td>1</td>\n",
       "      <td>1.000000</td>\n",
       "    </tr>\n",
       "    <tr>\n",
       "      <th>0590446681</th>\n",
       "      <td>1</td>\n",
       "      <td>1</td>\n",
       "      <td>1.000000</td>\n",
       "    </tr>\n",
       "    <tr>\n",
       "      <th>0590443925</th>\n",
       "      <td>1</td>\n",
       "      <td>1</td>\n",
       "      <td>1.000000</td>\n",
       "    </tr>\n",
       "    <tr>\n",
       "      <th>059042856X</th>\n",
       "      <td>1</td>\n",
       "      <td>1</td>\n",
       "      <td>1.000000</td>\n",
       "    </tr>\n",
       "    <tr>\n",
       "      <th>B0000T6KIM</th>\n",
       "      <td>1</td>\n",
       "      <td>1</td>\n",
       "      <td>1.000000</td>\n",
       "    </tr>\n",
       "  </tbody>\n",
       "</table>\n",
       "<p>10613 rows × 3 columns</p>\n",
       "</div>"
      ],
      "text/plain": [
       "            user_id  rating     ratio\n",
       "isbn                                 \n",
       "0743418174        1     188  0.005319\n",
       "0345370775        1     160  0.006250\n",
       "0804106304        1     156  0.006410\n",
       "0345361792        1     145  0.006897\n",
       "059035342X        2     251  0.007968\n",
       "...             ...     ...       ...\n",
       "0590448811        1       1  1.000000\n",
       "0590446681        1       1  1.000000\n",
       "0590443925        1       1  1.000000\n",
       "059042856X        1       1  1.000000\n",
       "B0000T6KIM        1       1  1.000000\n",
       "\n",
       "[10613 rows x 3 columns]"
      ]
     },
     "execution_count": 99,
     "metadata": {},
     "output_type": "execute_result"
    }
   ],
   "source": [
    "one_ratio_df.sort_values(by=['ratio'], ascending = True)"
   ]
  },
  {
   "cell_type": "code",
   "execution_count": 100,
   "id": "cf4ef7ad-6eb1-4b96-ad9a-be06e3963f33",
   "metadata": {},
   "outputs": [
    {
     "data": {
      "text/html": [
       "<div>\n",
       "<style scoped>\n",
       "    .dataframe tbody tr th:only-of-type {\n",
       "        vertical-align: middle;\n",
       "    }\n",
       "\n",
       "    .dataframe tbody tr th {\n",
       "        vertical-align: top;\n",
       "    }\n",
       "\n",
       "    .dataframe thead th {\n",
       "        text-align: right;\n",
       "    }\n",
       "</style>\n",
       "<table border=\"1\" class=\"dataframe\">\n",
       "  <thead>\n",
       "    <tr style=\"text-align: right;\">\n",
       "      <th></th>\n",
       "      <th>user_id</th>\n",
       "      <th>isbn</th>\n",
       "      <th>rating</th>\n",
       "      <th>location</th>\n",
       "      <th>age</th>\n",
       "      <th>book_title</th>\n",
       "      <th>book_author</th>\n",
       "      <th>year_of_publication</th>\n",
       "      <th>publisher</th>\n",
       "      <th>img_url</th>\n",
       "      <th>language</th>\n",
       "      <th>category</th>\n",
       "      <th>summary</th>\n",
       "      <th>img_path</th>\n",
       "    </tr>\n",
       "  </thead>\n",
       "  <tbody>\n",
       "    <tr>\n",
       "      <th>195120</th>\n",
       "      <td>65398</td>\n",
       "      <td>0590448811</td>\n",
       "      <td>1</td>\n",
       "      <td>milford, michigan, usa</td>\n",
       "      <td>13.0</td>\n",
       "      <td>The Christmas Tree That Ate My Mother</td>\n",
       "      <td>Dean Marney</td>\n",
       "      <td>1992.0</td>\n",
       "      <td>Scholastic Paperbacks (Mm)</td>\n",
       "      <td>http://images.amazon.com/images/P/0590448811.0...</td>\n",
       "      <td>en</td>\n",
       "      <td>['Christmas stories']</td>\n",
       "      <td>Looked on by her parents as a bit of a flake, ...</td>\n",
       "      <td>images/0590448811.01.THUMBZZZ.jpg</td>\n",
       "    </tr>\n",
       "  </tbody>\n",
       "</table>\n",
       "</div>"
      ],
      "text/plain": [
       "        user_id        isbn  rating                location   age  \\\n",
       "195120    65398  0590448811       1  milford, michigan, usa  13.0   \n",
       "\n",
       "                                   book_title  book_author  \\\n",
       "195120  The Christmas Tree That Ate My Mother  Dean Marney   \n",
       "\n",
       "        year_of_publication                   publisher  \\\n",
       "195120               1992.0  Scholastic Paperbacks (Mm)   \n",
       "\n",
       "                                                  img_url language  \\\n",
       "195120  http://images.amazon.com/images/P/0590448811.0...       en   \n",
       "\n",
       "                     category  \\\n",
       "195120  ['Christmas stories']   \n",
       "\n",
       "                                                  summary  \\\n",
       "195120  Looked on by her parents as a bit of a flake, ...   \n",
       "\n",
       "                                 img_path  \n",
       "195120  images/0590448811.01.THUMBZZZ.jpg  "
      ]
     },
     "execution_count": 100,
     "metadata": {},
     "output_type": "execute_result"
    }
   ],
   "source": [
    "test_df[test_df['isbn']=='0590448811']"
   ]
  },
  {
   "cell_type": "code",
   "execution_count": null,
   "id": "81d97d93-7da2-4308-8a30-c11fca557d03",
   "metadata": {},
   "outputs": [],
   "source": []
  }
 ],
 "metadata": {
  "kernelspec": {
   "display_name": "Python 3.8.5 ('base')",
   "language": "python",
   "name": "python3"
  },
  "language_info": {
   "codemirror_mode": {
    "name": "ipython",
    "version": 3
   },
   "file_extension": ".py",
   "mimetype": "text/x-python",
   "name": "python",
   "nbconvert_exporter": "python",
   "pygments_lexer": "ipython3",
   "version": "3.8.5"
  },
  "vscode": {
   "interpreter": {
    "hash": "d4d1e4263499bec80672ea0156c357c1ee493ec2b1c70f0acce89fc37c4a6abe"
   }
  }
 },
 "nbformat": 4,
 "nbformat_minor": 5
}
