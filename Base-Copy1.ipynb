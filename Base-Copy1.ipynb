{
 "cells": [
  {
   "cell_type": "code",
   "execution_count": 1,
   "id": "8fc2f4a7-5187-4e52-afbe-7c20267db8c8",
   "metadata": {},
   "outputs": [],
   "source": [
    "import numpy as np\n",
    "import pandas as pd\n",
    "from sklearn.model_selection import train_test_split\n",
    "import torch\n",
    "import torch.nn as nn\n",
    "from torch.utils.data import TensorDataset, DataLoader, Dataset\n",
    "import seaborn as sns\n",
    "import matplotlib.pyplot as plt"
   ]
  },
  {
   "cell_type": "code",
   "execution_count": 2,
   "id": "86f4371a-9021-41e2-8dd2-14ea9b498d89",
   "metadata": {},
   "outputs": [],
   "source": [
    "users = pd.read_csv('./data/' + 'users.csv')\n",
    "books = pd.read_csv('./data/' + 'books.csv')\n",
    "train = pd.read_csv('./data/' + 'train_ratings.csv')\n",
    "test = pd.read_csv('./data/' + 'test_ratings.csv')\n",
    "sub = pd.read_csv('./data/' + 'sample_submission.csv')"
   ]
  },
  {
   "cell_type": "code",
   "execution_count": 3,
   "id": "cecb6f13-9063-4f2d-b1e6-40eeb139ac4a",
   "metadata": {},
   "outputs": [],
   "source": [
    "test_df = train.merge(users, how=\"left\", on='user_id')\n",
    "test_df = test_df.merge(books, how=\"left\", on='isbn')"
   ]
  },
  {
   "cell_type": "code",
   "execution_count": null,
   "id": "63772f65-0b06-49bd-8be5-4731737f821d",
   "metadata": {},
   "outputs": [],
   "source": []
  }
 ],
 "metadata": {
  "kernelspec": {
   "display_name": "Python 3 (ipykernel)",
   "language": "python",
   "name": "python3"
  },
  "language_info": {
   "codemirror_mode": {
    "name": "ipython",
    "version": 3
   },
   "file_extension": ".py",
   "mimetype": "text/x-python",
   "name": "python",
   "nbconvert_exporter": "python",
   "pygments_lexer": "ipython3",
   "version": "3.8.5"
  }
 },
 "nbformat": 4,
 "nbformat_minor": 5
}
