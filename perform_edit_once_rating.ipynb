{
 "cells": [
  {
   "cell_type": "markdown",
   "id": "11caaf3c-b09d-4367-a5ab-abfe02812146",
   "metadata": {},
   "source": [
    "# 평점을 한번 이하로 받은 책을 train에서 없애줬다."
   ]
  },
  {
   "cell_type": "code",
   "execution_count": 5,
   "id": "cecb6f13-9063-4f2d-b1e6-40eeb139ac4a",
   "metadata": {
    "collapsed": true,
    "jupyter": {
     "outputs_hidden": true
    },
    "tags": []
   },
   "outputs": [
    {
     "name": "stdout",
     "output_type": "stream",
     "text": [
      "--------------- FM Load Data ---------------\n",
      "it works\n",
      "--------------- FM Train/Valid Split ---------------\n",
      "--------------- INIT FM ---------------\n",
      "--------------- FM TRAINING ---------------\n",
      "100%|██████████████████████████████| 240/240 [00:02<00:00, 86.11it/s, loss=3.34]\n",
      "100%|███████████████████████████████████████████| 60/60 [00:00<00:00, 95.20it/s]\n",
      "epoch: 0 | validation rmse: 2.8483451311094456 | minimum rmse: 2.8483451311094456\n",
      "100%|██████████████████████████████| 240/240 [00:02<00:00, 87.50it/s, loss=2.56]\n",
      "100%|██████████████████████████████████████████| 60/60 [00:00<00:00, 107.33it/s]\n",
      "epoch: 1 | validation rmse: 2.5449242121941507 | minimum rmse: 2.5449242121941507\n",
      "100%|██████████████████████████████| 240/240 [00:02<00:00, 86.31it/s, loss=2.28]\n",
      "100%|██████████████████████████████████████████| 60/60 [00:00<00:00, 107.42it/s]\n",
      "epoch: 2 | validation rmse: 2.424500790534999 | minimum rmse: 2.424500790534999\n",
      "100%|███████████████████████████████| 240/240 [00:02<00:00, 87.01it/s, loss=2.1]\n",
      "100%|███████████████████████████████████████████| 60/60 [00:00<00:00, 96.77it/s]\n",
      "epoch: 3 | validation rmse: 2.360332697411359 | minimum rmse: 2.360332697411359\n",
      "100%|██████████████████████████████| 240/240 [00:02<00:00, 87.05it/s, loss=1.94]\n",
      "100%|██████████████████████████████████████████| 60/60 [00:00<00:00, 108.63it/s]\n",
      "epoch: 4 | validation rmse: 2.3264373140831274 | minimum rmse: 2.3264373140831274\n",
      "100%|██████████████████████████████| 240/240 [00:02<00:00, 87.18it/s, loss=1.83]\n",
      "100%|██████████████████████████████████████████| 60/60 [00:00<00:00, 108.39it/s]\n",
      "epoch: 5 | validation rmse: 2.3112856513777964 | minimum rmse: 2.3112856513777964\n",
      "100%|██████████████████████████████| 240/240 [00:02<00:00, 87.37it/s, loss=1.73]\n",
      "100%|██████████████████████████████████████████| 60/60 [00:00<00:00, 108.68it/s]\n",
      "epoch: 6 | validation rmse: 2.3067895971145513 | minimum rmse: 2.3067895971145513\n",
      "100%|██████████████████████████████| 240/240 [00:02<00:00, 87.52it/s, loss=1.66]\n",
      "100%|███████████████████████████████████████████| 60/60 [00:00<00:00, 95.60it/s]\n",
      "epoch: 7 | validation rmse: 2.3085695784029934 | minimum rmse: 2.3067895971145513\n",
      "100%|██████████████████████████████| 240/240 [00:02<00:00, 86.99it/s, loss=1.59]\n",
      "100%|██████████████████████████████████████████| 60/60 [00:00<00:00, 108.37it/s]\n",
      "epoch: 8 | validation rmse: 2.317188378374954 | minimum rmse: 2.3067895971145513\n",
      "100%|██████████████████████████████| 240/240 [00:02<00:00, 87.26it/s, loss=1.54]\n",
      "100%|██████████████████████████████████████████| 60/60 [00:00<00:00, 108.40it/s]\n",
      "epoch: 9 | validation rmse: 2.3271066639647633 | minimum rmse: 2.3067895971145513\n",
      "--------------- FM PREDICT ---------------\n",
      "--------------- MIN_VAL_LOSS STATE LOAD ---------------\n",
      "100%|██████████████████████████████████████████| 75/75 [00:00<00:00, 174.00it/s]\n",
      "--------------- SAVE FM PREDICT ---------------\n",
      "Submit File Saved: submit/20221101_032043_FM.csv\n"
     ]
    }
   ],
   "source": [
    "!python main.py --MODEL FM --FM_EMBED_DIM 7        #loss(1.54), rmse(2.3067)  #적용 안해줬을 떄"
   ]
  },
  {
   "cell_type": "code",
   "execution_count": 3,
   "id": "8fc2f4a7-5187-4e52-afbe-7c20267db8c8",
   "metadata": {
    "collapsed": true,
    "jupyter": {
     "outputs_hidden": true
    },
    "tags": []
   },
   "outputs": [
    {
     "name": "stdout",
     "output_type": "stream",
     "text": [
      "--------------- FM Load Data ---------------\n",
      "it works\n",
      "--------------- FM Train/Valid Split ---------------\n",
      "--------------- INIT FM ---------------\n",
      "--------------- FM TRAINING ---------------\n",
      "100%|██████████████████████████████| 240/240 [00:02<00:00, 85.50it/s, loss=3.11]\n",
      "100%|███████████████████████████████████████████| 60/60 [00:00<00:00, 94.13it/s]\n",
      "epoch: 0 | validation rmse: 2.616646254006378 | minimum rmse: 2.616646254006378\n",
      "100%|██████████████████████████████| 240/240 [00:02<00:00, 86.08it/s, loss=2.35]\n",
      "100%|██████████████████████████████████████████| 60/60 [00:00<00:00, 107.47it/s]\n",
      "epoch: 1 | validation rmse: 2.3104912926514554 | minimum rmse: 2.3104912926514554\n",
      "100%|██████████████████████████████| 240/240 [00:02<00:00, 85.82it/s, loss=2.08]\n",
      "100%|██████████████████████████████████████████| 60/60 [00:00<00:00, 105.32it/s]\n",
      "epoch: 2 | validation rmse: 2.1891192638569827 | minimum rmse: 2.1891192638569827\n",
      "100%|██████████████████████████████| 240/240 [00:02<00:00, 86.39it/s, loss=1.92]\n",
      "100%|███████████████████████████████████████████| 60/60 [00:00<00:00, 96.04it/s]\n",
      "epoch: 3 | validation rmse: 2.1245091235414137 | minimum rmse: 2.1245091235414137\n",
      "100%|██████████████████████████████| 240/240 [00:02<00:00, 87.10it/s, loss=1.78]\n",
      "100%|██████████████████████████████████████████| 60/60 [00:00<00:00, 107.49it/s]\n",
      "epoch: 4 | validation rmse: 2.0903861716820926 | minimum rmse: 2.0903861716820926\n",
      "100%|██████████████████████████████| 240/240 [00:02<00:00, 86.30it/s, loss=1.69]\n",
      "100%|██████████████████████████████████████████| 60/60 [00:00<00:00, 106.26it/s]\n",
      "epoch: 5 | validation rmse: 2.07507957329334 | minimum rmse: 2.07507957329334\n",
      "100%|██████████████████████████████| 240/240 [00:02<00:00, 86.77it/s, loss=1.61]\n",
      "100%|██████████████████████████████████████████| 60/60 [00:00<00:00, 107.37it/s]\n",
      "epoch: 6 | validation rmse: 2.07048959169103 | minimum rmse: 2.07048959169103\n",
      "100%|██████████████████████████████| 240/240 [00:02<00:00, 86.27it/s, loss=1.55]\n",
      "100%|███████████████████████████████████████████| 60/60 [00:00<00:00, 95.65it/s]\n",
      "epoch: 7 | validation rmse: 2.0731952730849375 | minimum rmse: 2.07048959169103\n",
      "100%|███████████████████████████████| 240/240 [00:02<00:00, 85.59it/s, loss=1.5]\n",
      "100%|██████████████████████████████████████████| 60/60 [00:00<00:00, 107.29it/s]\n",
      "epoch: 8 | validation rmse: 2.081423432810049 | minimum rmse: 2.07048959169103\n",
      "100%|██████████████████████████████| 240/240 [00:02<00:00, 83.21it/s, loss=1.46]\n",
      "100%|███████████████████████████████████████████| 60/60 [00:00<00:00, 81.65it/s]\n",
      "epoch: 9 | validation rmse: 2.0911352957996447 | minimum rmse: 2.07048959169103\n",
      "--------------- FM PREDICT ---------------\n",
      "--------------- MIN_VAL_LOSS STATE LOAD ---------------\n",
      "100%|██████████████████████████████████████████| 75/75 [00:00<00:00, 130.59it/s]\n",
      "--------------- SAVE FM PREDICT ---------------\n",
      "Submit File Saved: submit/20221101_135400_FM.csv\n"
     ]
    }
   ],
   "source": [
    "!python main.py --MODEL FM --FM_EMBED_DIM 7        #loss(1.46), rmse(2.0704)  #적용 후"
   ]
  },
  {
   "cell_type": "code",
   "execution_count": 2,
   "id": "86f4371a-9021-41e2-8dd2-14ea9b498d89",
   "metadata": {
    "collapsed": true,
    "jupyter": {
     "outputs_hidden": true
    },
    "tags": []
   },
   "outputs": [
    {
     "name": "stdout",
     "output_type": "stream",
     "text": [
      "--------------- FFM Load Data ---------------\n",
      "it works\n",
      "--------------- FFM Train/Valid Split ---------------\n",
      "--------------- INIT FFM ---------------\n",
      "--------------- FFM TRAINING ---------------\n",
      "100%|███████████████████████████████| 171/171 [00:18<00:00,  9.25it/s, loss=3.5]\n",
      "100%|███████████████████████████████████████████| 43/43 [00:00<00:00, 86.88it/s]\n",
      "epoch: 0 | validation rmse: 2.411998157139203 | minimum rmse: 2.411998157139203\n",
      "100%|██████████████████████████████| 171/171 [00:18<00:00,  9.30it/s, loss=1.93]\n",
      "100%|███████████████████████████████████████████| 43/43 [00:00<00:00, 86.80it/s]\n",
      "epoch: 1 | validation rmse: 2.3502305985216307 | minimum rmse: 2.3502305985216307\n",
      "100%|██████████████████████████████| 171/171 [00:18<00:00,  9.25it/s, loss=1.18]\n",
      "100%|███████████████████████████████████████████| 43/43 [00:00<00:00, 86.80it/s]\n",
      "epoch: 2 | validation rmse: 2.360481046844347 | minimum rmse: 2.3502305985216307\n",
      "100%|█████████████████████████████| 171/171 [00:18<00:00,  9.30it/s, loss=0.943]\n",
      "100%|███████████████████████████████████████████| 43/43 [00:00<00:00, 86.22it/s]\n",
      "epoch: 3 | validation rmse: 2.336000822354197 | minimum rmse: 2.336000822354197\n",
      "100%|█████████████████████████████| 171/171 [00:18<00:00,  9.27it/s, loss=0.785]\n",
      "100%|██████████████████████████████████████████| 43/43 [00:00<00:00, 101.48it/s]\n",
      "epoch: 4 | validation rmse: 2.324599941967061 | minimum rmse: 2.324599941967061\n",
      "100%|█████████████████████████████| 171/171 [00:18<00:00,  9.27it/s, loss=0.684]\n",
      "100%|███████████████████████████████████████████| 43/43 [00:00<00:00, 86.49it/s]\n",
      "epoch: 5 | validation rmse: 2.317043527082324 | minimum rmse: 2.317043527082324\n",
      "100%|█████████████████████████████| 171/171 [00:18<00:00,  9.31it/s, loss=0.637]\n",
      "100%|███████████████████████████████████████████| 43/43 [00:00<00:00, 85.29it/s]\n",
      "epoch: 6 | validation rmse: 2.3117227173902664 | minimum rmse: 2.3117227173902664\n",
      "100%|█████████████████████████████| 171/171 [00:18<00:00,  9.26it/s, loss=0.578]\n",
      "100%|███████████████████████████████████████████| 43/43 [00:00<00:00, 86.06it/s]\n",
      "epoch: 7 | validation rmse: 2.308109140534069 | minimum rmse: 2.308109140534069\n",
      "100%|█████████████████████████████| 171/171 [00:18<00:00,  9.33it/s, loss=0.553]\n",
      "100%|███████████████████████████████████████████| 43/43 [00:00<00:00, 86.42it/s]\n",
      "epoch: 8 | validation rmse: 2.300040087866096 | minimum rmse: 2.300040087866096\n",
      "100%|█████████████████████████████| 171/171 [00:18<00:00,  9.25it/s, loss=0.528]\n",
      "100%|███████████████████████████████████████████| 43/43 [00:00<00:00, 86.12it/s]\n",
      "epoch: 9 | validation rmse: 2.301878905973061 | minimum rmse: 2.300040087866096\n",
      "--------------- FFM PREDICT ---------------\n",
      "--------------- MIN_VAL_LOSS STATE LOAD ---------------\n",
      "100%|██████████████████████████████████████████| 75/75 [00:00<00:00, 130.08it/s]\n",
      "--------------- SAVE FFM PREDICT ---------------\n",
      "Submit File Saved: submit/20221101_031907_FFM.csv\n"
     ]
    }
   ],
   "source": [
    "!python main.py --MODEL FFM --FFM_EMBED_DIM 256    #loss(0.528), rmse(2.3000) #적용 안해줬을 때"
   ]
  },
  {
   "cell_type": "code",
   "execution_count": 4,
   "id": "50443ca7-969a-46b6-926c-cf873bc1fb12",
   "metadata": {
    "collapsed": true,
    "jupyter": {
     "outputs_hidden": true
    },
    "tags": []
   },
   "outputs": [
    {
     "name": "stdout",
     "output_type": "stream",
     "text": [
      "--------------- FFM Load Data ---------------\n",
      "it works\n",
      "--------------- FFM Train/Valid Split ---------------\n",
      "--------------- INIT FFM ---------------\n",
      "--------------- FFM TRAINING ---------------\n",
      "100%|██████████████████████████████| 240/240 [00:39<00:00,  6.14it/s, loss=2.33]\n",
      "100%|███████████████████████████████████████████| 60/60 [00:00<00:00, 80.35it/s]\n",
      "epoch: 0 | validation rmse: 2.2186285207419956 | minimum rmse: 2.2186285207419956\n",
      "100%|██████████████████████████████| 240/240 [00:39<00:00,  6.13it/s, loss=1.73]\n",
      "100%|███████████████████████████████████████████| 60/60 [00:00<00:00, 89.56it/s]\n",
      "epoch: 1 | validation rmse: 2.146999527675437 | minimum rmse: 2.146999527675437\n",
      "100%|███████████████████████████████| 240/240 [00:39<00:00,  6.15it/s, loss=1.1]\n",
      "100%|███████████████████████████████████████████| 60/60 [00:00<00:00, 89.41it/s]\n",
      "epoch: 2 | validation rmse: 2.1307576811923385 | minimum rmse: 2.1307576811923385\n",
      "100%|█████████████████████████████| 240/240 [00:39<00:00,  6.15it/s, loss=0.872]\n",
      "100%|███████████████████████████████████████████| 60/60 [00:00<00:00, 89.04it/s]\n",
      "epoch: 3 | validation rmse: 2.1118163988654213 | minimum rmse: 2.1118163988654213\n",
      "100%|█████████████████████████████| 240/240 [00:39<00:00,  6.13it/s, loss=0.719]\n",
      "100%|███████████████████████████████████████████| 60/60 [00:00<00:00, 88.17it/s]\n",
      "epoch: 4 | validation rmse: 2.095307703382771 | minimum rmse: 2.095307703382771\n",
      "100%|█████████████████████████████| 240/240 [00:39<00:00,  6.14it/s, loss=0.647]\n",
      "100%|███████████████████████████████████████████| 60/60 [00:00<00:00, 89.69it/s]\n",
      "epoch: 5 | validation rmse: 2.0827102678325478 | minimum rmse: 2.0827102678325478\n",
      "100%|█████████████████████████████| 240/240 [00:39<00:00,  6.13it/s, loss=0.583]\n",
      "100%|███████████████████████████████████████████| 60/60 [00:00<00:00, 88.89it/s]\n",
      "epoch: 6 | validation rmse: 2.0755953697498923 | minimum rmse: 2.0755953697498923\n",
      "100%|█████████████████████████████| 240/240 [00:39<00:00,  6.13it/s, loss=0.559]\n",
      "100%|███████████████████████████████████████████| 60/60 [00:00<00:00, 89.03it/s]\n",
      "epoch: 7 | validation rmse: 2.069846430540537 | minimum rmse: 2.069846430540537\n",
      "100%|█████████████████████████████| 240/240 [00:39<00:00,  6.13it/s, loss=0.525]\n",
      "100%|███████████████████████████████████████████| 60/60 [00:00<00:00, 89.29it/s]\n",
      "epoch: 8 | validation rmse: 2.066777120016101 | minimum rmse: 2.066777120016101\n",
      "100%|█████████████████████████████| 240/240 [00:39<00:00,  6.13it/s, loss=0.502]\n",
      "100%|███████████████████████████████████████████| 60/60 [00:00<00:00, 88.88it/s]\n",
      "epoch: 9 | validation rmse: 2.0553857764449917 | minimum rmse: 2.0553857764449917\n",
      "--------------- FFM PREDICT ---------------\n",
      "--------------- MIN_VAL_LOSS STATE LOAD ---------------\n",
      "100%|██████████████████████████████████████████| 75/75 [00:00<00:00, 130.11it/s]\n",
      "--------------- SAVE FFM PREDICT ---------------\n",
      "Submit File Saved: submit/20221101_140600_FFM.csv\n"
     ]
    }
   ],
   "source": [
    "!python main.py --MODEL FFM --FFM_EMBED_DIM 256    #loss(0.502), rmse(2.0553) #적용 후"
   ]
  },
  {
   "cell_type": "code",
   "execution_count": 6,
   "id": "537b85a5-4d46-4121-b51b-861278425928",
   "metadata": {
    "collapsed": true,
    "jupyter": {
     "outputs_hidden": true
    },
    "tags": []
   },
   "outputs": [
    {
     "name": "stdout",
     "output_type": "stream",
     "text": [
      "--------------- DeepCoNN Load Data ---------------\n",
      "[nltk_data] Downloading package punkt to /opt/ml/nltk_data...\n",
      "[nltk_data]   Package punkt is already up-to-date!\n",
      "Some weights of the model checkpoint at bert-base-uncased were not used when initializing BertModel: ['cls.predictions.bias', 'cls.predictions.transform.dense.weight', 'cls.predictions.transform.LayerNorm.bias', 'cls.predictions.decoder.weight', 'cls.seq_relationship.weight', 'cls.predictions.transform.LayerNorm.weight', 'cls.predictions.transform.dense.bias', 'cls.seq_relationship.bias']\n",
      "- This IS expected if you are initializing BertModel from the checkpoint of a model trained on another task or with another architecture (e.g. initializing a BertForSequenceClassification model from a BertForPreTraining model).\n",
      "- This IS NOT expected if you are initializing BertModel from the checkpoint of a model that you expect to be exactly identical (initializing a BertForSequenceClassification model from a BertForSequenceClassification model).\n",
      "Create User Summary Merge Vector\n",
      "100%|█████████████████████████████████████| 59803/59803 [16:26<00:00, 60.61it/s]\n",
      "Create Item Summary Vector\n",
      "100%|███████████████████████████████████| 129777/129777 [31:10<00:00, 69.37it/s]\n",
      "Some weights of the model checkpoint at bert-base-uncased were not used when initializing BertModel: ['cls.predictions.bias', 'cls.predictions.transform.dense.weight', 'cls.predictions.transform.LayerNorm.bias', 'cls.predictions.decoder.weight', 'cls.seq_relationship.weight', 'cls.predictions.transform.LayerNorm.weight', 'cls.predictions.transform.dense.bias', 'cls.seq_relationship.bias']\n",
      "- This IS expected if you are initializing BertModel from the checkpoint of a model trained on another task or with another architecture (e.g. initializing a BertForSequenceClassification model from a BertForPreTraining model).\n",
      "- This IS NOT expected if you are initializing BertModel from the checkpoint of a model that you expect to be exactly identical (initializing a BertForSequenceClassification model from a BertForSequenceClassification model).\n",
      "Create User Summary Merge Vector\n",
      "100%|█████████████████████████████████████| 26167/26167 [07:02<00:00, 61.91it/s]\n",
      "Create Item Summary Vector\n",
      "100%|█████████████████████████████████████| 52000/52000 [12:34<00:00, 68.96it/s]\n",
      "--------------- DeepCoNN Train/Valid Split ---------------\n",
      "--------------- INIT DeepCoNN ---------------\n",
      "--------------- DeepCoNN TRAINING ---------------\n",
      "100%|█████████| 10/10 [02:45<00:00, 16.57s/it, train_loss=1.85, valid_loss=1.41]\n",
      "--------------- DeepCoNN PREDICT ---------------\n",
      "--------------- SAVE DeepCoNN PREDICT ---------------\n",
      "Submit File Saved: submit/20221101_153750_DeepCoNN.csv\n"
     ]
    }
   ],
   "source": [
    "!python main.py --MODEL DeepCoNN --DEEPCONN_VECTOR_CREATE True #적용 전 rmse(1.4102)"
   ]
  },
  {
   "cell_type": "code",
   "execution_count": 8,
   "id": "824eaafc-41f2-42bd-8a81-d23ac6c5d779",
   "metadata": {
    "collapsed": true,
    "jupyter": {
     "outputs_hidden": true
    },
    "tags": []
   },
   "outputs": [
    {
     "name": "stdout",
     "output_type": "stream",
     "text": [
      "--------------- DeepCoNN Load Data ---------------\n",
      "[nltk_data] Downloading package punkt to /opt/ml/nltk_data...\n",
      "[nltk_data]   Package punkt is already up-to-date!\n",
      "Some weights of the model checkpoint at bert-base-uncased were not used when initializing BertModel: ['cls.seq_relationship.weight', 'cls.predictions.transform.LayerNorm.bias', 'cls.predictions.transform.dense.weight', 'cls.predictions.decoder.weight', 'cls.seq_relationship.bias', 'cls.predictions.transform.LayerNorm.weight', 'cls.predictions.transform.dense.bias', 'cls.predictions.bias']\n",
      "- This IS expected if you are initializing BertModel from the checkpoint of a model trained on another task or with another architecture (e.g. initializing a BertForSequenceClassification model from a BertForPreTraining model).\n",
      "- This IS NOT expected if you are initializing BertModel from the checkpoint of a model that you expect to be exactly identical (initializing a BertForSequenceClassification model from a BertForSequenceClassification model).\n",
      "Check Vectorizer\n",
      "Vector Load\n",
      "Some weights of the model checkpoint at bert-base-uncased were not used when initializing BertModel: ['cls.seq_relationship.weight', 'cls.predictions.transform.LayerNorm.bias', 'cls.predictions.transform.dense.weight', 'cls.predictions.decoder.weight', 'cls.seq_relationship.bias', 'cls.predictions.transform.LayerNorm.weight', 'cls.predictions.transform.dense.bias', 'cls.predictions.bias']\n",
      "- This IS expected if you are initializing BertModel from the checkpoint of a model trained on another task or with another architecture (e.g. initializing a BertForSequenceClassification model from a BertForPreTraining model).\n",
      "- This IS NOT expected if you are initializing BertModel from the checkpoint of a model that you expect to be exactly identical (initializing a BertForSequenceClassification model from a BertForSequenceClassification model).\n",
      "Check Vectorizer\n",
      "Vector Load\n",
      "--------------- DeepCoNN Train/Valid Split ---------------\n",
      "--------------- INIT DeepCoNN ---------------\n",
      "--------------- DeepCoNN TRAINING ---------------\n",
      "100%|█████████| 10/10 [02:47<00:00, 16.77s/it, train_loss=1.81, valid_loss=1.37]\n",
      "--------------- DeepCoNN PREDICT ---------------\n",
      "--------------- SAVE DeepCoNN PREDICT ---------------\n",
      "Submit File Saved: submit/20221101_155226_DeepCoNN.csv\n"
     ]
    }
   ],
   "source": [
    "!python main.py --MODEL DeepCoNN                               #적용 후 rmse(1.3749)"
   ]
  }
 ],
 "metadata": {
  "kernelspec": {
   "display_name": "Python 3 (ipykernel)",
   "language": "python",
   "name": "python3"
  },
  "language_info": {
   "codemirror_mode": {
    "name": "ipython",
    "version": 3
   },
   "file_extension": ".py",
   "mimetype": "text/x-python",
   "name": "python",
   "nbconvert_exporter": "python",
   "pygments_lexer": "ipython3",
   "version": "3.8.5"
  }
 },
 "nbformat": 4,
 "nbformat_minor": 5
}
