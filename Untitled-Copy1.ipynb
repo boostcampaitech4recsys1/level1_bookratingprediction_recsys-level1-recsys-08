{
 "cells": [
  {
   "cell_type": "code",
   "execution_count": 2,
   "id": "562de734-2dac-4777-bea2-3ee66d546ef0",
   "metadata": {},
   "outputs": [],
   "source": [
    "import numpy as np\n",
    "import pandas as pd\n",
    "from sklearn.model_selection import train_test_split\n",
    "import torch\n",
    "import torch.nn as nn\n",
    "from torch.utils.data import TensorDataset, DataLoader, Dataset\n",
    "import seaborn as sns\n",
    "import matplotlib.pyplot as plt"
   ]
  },
  {
   "cell_type": "code",
   "execution_count": 3,
   "id": "06e13f14-5217-4f5b-b278-a34258000917",
   "metadata": {},
   "outputs": [],
   "source": [
    "users = pd.read_csv('./data/' + 'users.csv')\n",
    "books = pd.read_csv('./data/' + 'books.csv')\n",
    "train = pd.read_csv('./data/' + 'train_ratings.csv')\n",
    "test = pd.read_csv('./data/' + 'test_ratings.csv')\n",
    "sub = pd.read_csv('./data/' + 'sample_submission.csv')"
   ]
  },
  {
   "cell_type": "code",
   "execution_count": 8,
   "id": "52e33913-2a12-4eab-a694-2cd100f7fd20",
   "metadata": {},
   "outputs": [
    {
     "data": {
      "text/plain": [
       "62059"
      ]
     },
     "execution_count": 8,
     "metadata": {},
     "output_type": "execute_result"
    }
   ],
   "source": [
    "books['book_author'].nunique()"
   ]
  },
  {
   "cell_type": "code",
   "execution_count": 9,
   "id": "55eb913e-3b76-4020-ab9d-d9f7d8b4faeb",
   "metadata": {},
   "outputs": [
    {
     "data": {
      "text/plain": [
       "149570"
      ]
     },
     "execution_count": 9,
     "metadata": {},
     "output_type": "execute_result"
    }
   ],
   "source": [
    "len(books)"
   ]
  },
  {
   "cell_type": "code",
   "execution_count": 10,
   "id": "25924978-3645-41c0-b987-f6fd8ec4d5e6",
   "metadata": {},
   "outputs": [],
   "source": [
    "book_author = books.groupby('book_author')['isbn'].count().sort_values(ascending=False)\n"
   ]
  },
  {
   "cell_type": "code",
   "execution_count": 11,
   "id": "2baae2aa-bd5c-4899-847e-882e82dcf226",
   "metadata": {},
   "outputs": [
    {
     "data": {
      "text/plain": [
       "book_author\n",
       "Stephen King           446\n",
       "Agatha Christie        404\n",
       "William Shakespeare    381\n",
       "Barbara Cartland       283\n",
       "Nora Roberts           241\n",
       "Terry Pratchett        198\n",
       "Isaac Asimov           195\n",
       "Charles Dickens        187\n",
       "Carolyn Keene          185\n",
       "Ann M. Martin          183\n",
       "Name: isbn, dtype: int64"
      ]
     },
     "execution_count": 11,
     "metadata": {},
     "output_type": "execute_result"
    }
   ],
   "source": [
    "book_author[:10]"
   ]
  },
  {
   "cell_type": "code",
   "execution_count": 23,
   "id": "0a2ff8e5-8a02-41c0-839b-1cce5f4f990d",
   "metadata": {},
   "outputs": [
    {
     "data": {
      "text/plain": [
       "array(['Bobbie Ann Mason', 'Ann M. Martin', 'Curtiss Ann Matlock',\n",
       "       'Ann Marston', 'Mary Ann Mitchell', 'Ann McGee-Cooper',\n",
       "       'Ann McGovern', 'Ann Major', 'Jo-Ann Mapson', 'M. Ann Martin',\n",
       "       'Ann Moore', 'Mary Ann McDonald', 'Ann M Williams',\n",
       "       'Ann Mc Govern', 'Ann McMillan', 'Ann Morris',\n",
       "       'Ann Matthews Martin', 'Lisa Ann Marsoli', 'Ann Maxwell',\n",
       "       'Ann Marie Sabath', 'Elizabeth Ann Michaels', 'Tara Ann McFadden',\n",
       "       'Mary Ann Madden', 'Ann M Martin', 'Ann Martin', 'Ann McPherson',\n",
       "       'Ann Margret', 'Paula Ann Monroe', 'Ann Marie Brown',\n",
       "       'Ann Matthews', 'Ann Marlowe', 'Jo Ann Martin', 'Ann Mariah Cook',\n",
       "       'Carolyn Ann Meeks'], dtype=object)"
      ]
     },
     "execution_count": 23,
     "metadata": {},
     "output_type": "execute_result"
    }
   ],
   "source": [
    "books[books['book_author'].str.contains('Ann M')]['book_author'].unique()\n",
    "             "
   ]
  },
  {
   "cell_type": "code",
   "execution_count": null,
   "id": "8f6c68cf-b1ee-4f1f-acf6-b36d919d85c8",
   "metadata": {},
   "outputs": [],
   "source": []
  }
 ],
 "metadata": {
  "kernelspec": {
   "display_name": "Python 3 (ipykernel)",
   "language": "python",
   "name": "python3"
  },
  "language_info": {
   "codemirror_mode": {
    "name": "ipython",
    "version": 3
   },
   "file_extension": ".py",
   "mimetype": "text/x-python",
   "name": "python",
   "nbconvert_exporter": "python",
   "pygments_lexer": "ipython3",
   "version": "3.8.5"
  }
 },
 "nbformat": 4,
 "nbformat_minor": 5
}
