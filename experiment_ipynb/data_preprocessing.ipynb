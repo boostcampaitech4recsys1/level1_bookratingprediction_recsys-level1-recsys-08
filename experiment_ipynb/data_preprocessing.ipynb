{
 "cells": [
  {
   "cell_type": "code",
   "execution_count": 1,
   "id": "6fd1e323-e5e4-47f7-af4e-f95208a4fd5a",
   "metadata": {},
   "outputs": [],
   "source": [
    "import numpy as np\n",
    "import pandas as pd\n",
    "from sklearn.model_selection import train_test_split\n",
    "import torch\n",
    "import torch.nn as nn\n",
    "from torch.utils.data import TensorDataset, DataLoader, Dataset\n",
    "import seaborn as sns\n",
    "import matplotlib.pyplot as plt"
   ]
  },
  {
   "cell_type": "code",
   "execution_count": 2,
   "id": "f57d7b80-5cbd-48ea-996f-dbccbecc6b8e",
   "metadata": {},
   "outputs": [],
   "source": [
    "users = pd.read_csv('../data/' + 'users.csv')\n",
    "books = pd.read_csv('../data/' + 'books.csv')\n",
    "train = pd.read_csv('../data/' + 'train_ratings.csv')\n",
    "test = pd.read_csv('../data/' + 'test_ratings.csv')\n",
    "sub = pd.read_csv('../data/' + 'sample_submission.csv')"
   ]
  },
  {
   "cell_type": "code",
   "execution_count": 3,
   "id": "8e62bdf0-f367-47b2-9b73-3d4e5ec54edb",
   "metadata": {},
   "outputs": [],
   "source": [
    "#user의 location 전처리"
   ]
  },
  {
   "cell_type": "code",
   "execution_count": 4,
   "id": "8f298574-f296-45af-8e04-b5e7d9fb4f55",
   "metadata": {
    "tags": []
   },
   "outputs": [],
   "source": [
    "users['location'] = users['location'].str.replace(r'[^0-9a-zA-Z:,]', '', regex=True) # 특수문자 제거\n",
    "\n",
    "users['location_city'] = users['location'].apply(lambda x: x.split(',')[0].strip())\n",
    "users['location_state'] = users['location'].apply(lambda x: x.split(',')[1].strip())\n",
    "users['location_country'] = users['location'].apply(lambda x: x.split(',')[2].strip())\n",
    "\n",
    "users = users.replace('na', np.nan) #특수문자 제거로 n/a가 na로 바뀌게 되었습니다. 따라서 이를 컴퓨터가 인식할 수 있는 결측값으로 변환합니다.\n",
    "users = users.replace('', np.nan) # 일부 경우 , , ,으로 입력된 경우가 있었으므로 이런 경우에도 결측값으로 변환합니다.\n"
   ]
  },
  {
   "cell_type": "code",
   "execution_count": null,
   "id": "b6ddf849-dd56-477f-bbdc-fd0fc5a6d57e",
   "metadata": {},
   "outputs": [],
   "source": [
    "modify_location = users[(users['location_country'].isna())&(users['location_city'].notnull())]['location_city'].values\n",
    "\n",
    "location_list = []\n",
    "for location in modify_location:\n",
    "    try:\n",
    "        right_location = users[(users['location'].str.contains(location))&(users['location_country'].notnull())]['location'].value_counts().index[0]\n",
    "        location_list.append(right_location)\n",
    "    except:\n",
    "        pass\n",
    "    "
   ]
  },
  {
   "cell_type": "code",
   "execution_count": 6,
   "id": "caeda7ac-acd8-4e30-8c80-6de937490ae1",
   "metadata": {},
   "outputs": [],
   "source": [
    "for location in location_list:\n",
    "    users.loc[users[users['location_city']==location.split(',')[0]].index,'location_state'] = location.split(',')[1]\n",
    "    users.loc[users[users['location_city']==location.split(',')[0]].index,'location_country'] = location.split(',')[2]\n",
    "    "
   ]
  },
  {
   "cell_type": "code",
   "execution_count": null,
   "id": "b0427bdc-6b49-4b1f-bf20-76dbd790d3b4",
   "metadata": {},
   "outputs": [],
   "source": [
    "users.isna().sum()"
   ]
  },
  {
   "cell_type": "code",
   "execution_count": null,
   "id": "73b1cfb1-a9a3-4acb-b2ea-6441531b53e1",
   "metadata": {
    "tags": []
   },
   "outputs": [],
   "source": [
    "modify_location = users[(users['location_state'].isna())&(users['location_city'].notnull())]['location_city'].values\n",
    "\n",
    "location_list = []\n",
    "for location in modify_location:\n",
    "    try:\n",
    "        right_location = users[(users['location'].str.contains(location))&(users['location_state'].notnull())]['location'].value_counts().index[0]\n",
    "        location_list.append(right_location)\n",
    "    except:\n",
    "        pass\n",
    "    "
   ]
  },
  {
   "cell_type": "code",
   "execution_count": 9,
   "id": "b04c8e89-548f-4ebc-a6da-74de81aa28c6",
   "metadata": {},
   "outputs": [],
   "source": [
    "for location in location_list:\n",
    "    users.loc[users[users['location_city']==location.split(',')[0]].index,'location_state'] = location.split(',')[1]\n",
    "    users.loc[users[users['location_city']==location.split(',')[0]].index,'location_country'] = location.split(',')[2]\n",
    "    "
   ]
  },
  {
   "cell_type": "code",
   "execution_count": 10,
   "id": "1392d95c-9d5f-4340-b0c1-69979a9d942e",
   "metadata": {},
   "outputs": [
    {
     "data": {
      "text/plain": [
       "user_id                 0\n",
       "location                0\n",
       "age                 27833\n",
       "location_city         122\n",
       "location_state        606\n",
       "location_country      266\n",
       "dtype: int64"
      ]
     },
     "execution_count": 10,
     "metadata": {},
     "output_type": "execute_result"
    }
   ],
   "source": [
    "users.isna().sum()"
   ]
  },
  {
   "cell_type": "code",
   "execution_count": null,
   "id": "1ca41092-ed67-4546-b48b-70736b93fc22",
   "metadata": {},
   "outputs": [],
   "source": [
    "#books의 출판사 전처리"
   ]
  },
  {
   "cell_type": "code",
   "execution_count": 16,
   "id": "68dc5930-9894-42ff-875e-4bb01bc4d7f3",
   "metadata": {},
   "outputs": [
    {
     "data": {
      "text/plain": [
       "0         images/0002005018.01.THUMBZZZ.jpg\n",
       "1         images/0060973129.01.THUMBZZZ.jpg\n",
       "2         images/0374157065.01.THUMBZZZ.jpg\n",
       "3         images/0399135782.01.THUMBZZZ.jpg\n",
       "4         images/0425176428.01.THUMBZZZ.jpg\n",
       "                        ...                \n",
       "149565    images/067161746X.01.THUMBZZZ.jpg\n",
       "149566    images/0767907566.01.THUMBZZZ.jpg\n",
       "149567    images/0884159221.01.THUMBZZZ.jpg\n",
       "149568    images/0912333022.01.THUMBZZZ.jpg\n",
       "149569    images/1569661057.01.THUMBZZZ.jpg\n",
       "Name: img_path, Length: 149570, dtype: object"
      ]
     },
     "execution_count": 16,
     "metadata": {},
     "output_type": "execute_result"
    }
   ],
   "source": [
    "books['img_path']"
   ]
  },
  {
   "cell_type": "code",
   "execution_count": 17,
   "id": "ceb43e39-5fc0-48df-a90e-d931fbdcfeba",
   "metadata": {},
   "outputs": [
    {
     "data": {
      "text/html": [
       "<div>\n",
       "<style scoped>\n",
       "    .dataframe tbody tr th:only-of-type {\n",
       "        vertical-align: middle;\n",
       "    }\n",
       "\n",
       "    .dataframe tbody tr th {\n",
       "        vertical-align: top;\n",
       "    }\n",
       "\n",
       "    .dataframe thead th {\n",
       "        text-align: right;\n",
       "    }\n",
       "</style>\n",
       "<table border=\"1\" class=\"dataframe\">\n",
       "  <thead>\n",
       "    <tr style=\"text-align: right;\">\n",
       "      <th></th>\n",
       "      <th>isbn</th>\n",
       "      <th>book_title</th>\n",
       "      <th>book_author</th>\n",
       "      <th>year_of_publication</th>\n",
       "      <th>publisher</th>\n",
       "      <th>img_url</th>\n",
       "      <th>language</th>\n",
       "      <th>category</th>\n",
       "      <th>summary</th>\n",
       "      <th>img_path</th>\n",
       "    </tr>\n",
       "  </thead>\n",
       "  <tbody>\n",
       "  </tbody>\n",
       "</table>\n",
       "</div>"
      ],
      "text/plain": [
       "Empty DataFrame\n",
       "Columns: [isbn, book_title, book_author, year_of_publication, publisher, img_url, language, category, summary, img_path]\n",
       "Index: []"
      ]
     },
     "execution_count": 17,
     "metadata": {},
     "output_type": "execute_result"
    }
   ],
   "source": [
    "books[books['isbn']!=books['img_path'].apply(lambda x: x.split('/')[1][:10])]\n"
   ]
  },
  {
   "cell_type": "code",
   "execution_count": 9,
   "id": "7860f783-7cfd-4387-98b6-9699dabfd51d",
   "metadata": {},
   "outputs": [
    {
     "data": {
      "text/plain": [
       "135436"
      ]
     },
     "execution_count": 9,
     "metadata": {},
     "output_type": "execute_result"
    }
   ],
   "source": []
  },
  {
   "cell_type": "code",
   "execution_count": 10,
   "id": "6b58d2c1-a2ce-4b4f-9a46-2f4e878eaf9a",
   "metadata": {},
   "outputs": [
    {
     "data": {
      "text/plain": [
       "isbn                       0\n",
       "book_title                 0\n",
       "book_author                0\n",
       "year_of_publication        0\n",
       "publisher                  0\n",
       "img_url                    0\n",
       "language               67227\n",
       "category               68851\n",
       "summary                67227\n",
       "img_path                   0\n",
       "dtype: int64"
      ]
     },
     "execution_count": 10,
     "metadata": {},
     "output_type": "execute_result"
    }
   ],
   "source": [
    "books.isna().sum() #language, category, summary에 결측값이 있습니다"
   ]
  },
  {
   "cell_type": "code",
   "execution_count": null,
   "id": "956e5a78-3fea-4965-a3c7-4e358b5a02f0",
   "metadata": {},
   "outputs": [],
   "source": []
  }
 ],
 "metadata": {
  "kernelspec": {
   "display_name": "Python 3 (ipykernel)",
   "language": "python",
   "name": "python3"
  },
  "language_info": {
   "codemirror_mode": {
    "name": "ipython",
    "version": 3
   },
   "file_extension": ".py",
   "mimetype": "text/x-python",
   "name": "python",
   "nbconvert_exporter": "python",
   "pygments_lexer": "ipython3",
   "version": "3.8.5"
  }
 },
 "nbformat": 4,
 "nbformat_minor": 5
}
