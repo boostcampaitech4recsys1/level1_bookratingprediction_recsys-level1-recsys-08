{
 "cells": [
  {
   "cell_type": "code",
   "execution_count": 1,
   "id": "562de734-2dac-4777-bea2-3ee66d546ef0",
   "metadata": {},
   "outputs": [],
   "source": [
    "import numpy as np\n",
    "import pandas as pd\n",
    "from sklearn.model_selection import train_test_split\n",
    "import torch\n",
    "import torch.nn as nn\n",
    "from torch.utils.data import TensorDataset, DataLoader, Dataset\n",
    "import seaborn as sns\n",
    "import matplotlib.pyplot as plt"
   ]
  },
  {
   "cell_type": "code",
   "execution_count": 2,
   "id": "06e13f14-5217-4f5b-b278-a34258000917",
   "metadata": {},
   "outputs": [],
   "source": [
    "users = pd.read_csv('./data/' + 'users.csv')\n",
    "books = pd.read_csv('./data/' + 'books.csv')\n",
    "train = pd.read_csv('./data/' + 'train_ratings.csv')\n",
    "test = pd.read_csv('./data/' + 'test_ratings.csv')\n",
    "sub = pd.read_csv('./data/' + 'sample_submission.csv')"
   ]
  },
  {
   "cell_type": "code",
   "execution_count": 5,
   "id": "7a8182a8-2002-4f24-ba3e-5094d36b7667",
   "metadata": {},
   "outputs": [],
   "source": [
    "train_counts = train.groupby('user_id')['rating'].count().sort_values(ascending=False)\n",
    "test_counts = test.groupby('user_id')['rating'].count().sort_values(ascending=False)"
   ]
  },
  {
   "cell_type": "code",
   "execution_count": 19,
   "id": "f8e8b7ff-226a-4712-8cd8-a08dc65bd3d6",
   "metadata": {},
   "outputs": [
    {
     "data": {
      "text/plain": [
       "user_id\n",
       "11676     5520\n",
       "98391     4560\n",
       "189835    1503\n",
       "153662    1496\n",
       "23902      956\n",
       "235105     812\n",
       "76499      810\n",
       "171118     771\n",
       "16795      760\n",
       "248718     747\n",
       "Name: rating, dtype: int64"
      ]
     },
     "execution_count": 19,
     "metadata": {},
     "output_type": "execute_result"
    }
   ],
   "source": [
    "train_counts[:10]"
   ]
  },
  {
   "cell_type": "code",
   "execution_count": 18,
   "id": "009fe711-f8cf-4137-84bd-ed46ed263166",
   "metadata": {},
   "outputs": [
    {
     "data": {
      "text/plain": [
       "user_id\n",
       "11676     1419\n",
       "98391     1125\n",
       "189835     396\n",
       "153662     347\n",
       "23902      223\n",
       "235105     208\n",
       "76499      201\n",
       "16795      198\n",
       "248718     194\n",
       "171118     189\n",
       "Name: rating, dtype: int64"
      ]
     },
     "execution_count": 18,
     "metadata": {},
     "output_type": "execute_result"
    }
   ],
   "source": [
    "test_counts[:10]"
   ]
  },
  {
   "cell_type": "code",
   "execution_count": 23,
   "id": "d712bd9f-7ff6-4409-8f28-e9c526d1611d",
   "metadata": {},
   "outputs": [
    {
     "data": {
      "text/plain": [
       "17935"
      ]
     },
     "execution_count": 23,
     "metadata": {},
     "output_type": "execute_result"
    }
   ],
   "source": [
    "train_counts[:10].sum()"
   ]
  },
  {
   "cell_type": "code",
   "execution_count": 24,
   "id": "815a9319-a064-4c2d-abf4-fd23df5b3158",
   "metadata": {},
   "outputs": [
    {
     "data": {
      "text/plain": [
       "306795"
      ]
     },
     "execution_count": 24,
     "metadata": {},
     "output_type": "execute_result"
    }
   ],
   "source": [
    "train_counts.sum()"
   ]
  },
  {
   "cell_type": "code",
   "execution_count": 25,
   "id": "95eb21d0-c2be-4e88-84bb-40229a941426",
   "metadata": {},
   "outputs": [
    {
     "data": {
      "text/plain": [
       "0.05845923173454587"
      ]
     },
     "execution_count": 25,
     "metadata": {},
     "output_type": "execute_result"
    }
   ],
   "source": [
    "train_counts[:10].sum() / train_counts.sum()"
   ]
  },
  {
   "cell_type": "code",
   "execution_count": 26,
   "id": "88a79262-c408-4788-9aaf-91ad6d9102b6",
   "metadata": {},
   "outputs": [
    {
     "data": {
      "text/plain": [
       "17935"
      ]
     },
     "execution_count": 26,
     "metadata": {},
     "output_type": "execute_result"
    }
   ],
   "source": [
    "test_counts[:10].sum()"
   ]
  },
  {
   "cell_type": "code",
   "execution_count": 27,
   "id": "5a460f6a-d599-4aae-a900-5cc337f77898",
   "metadata": {},
   "outputs": [
    {
     "data": {
      "text/plain": [
       "76699"
      ]
     },
     "execution_count": 27,
     "metadata": {},
     "output_type": "execute_result"
    }
   ],
   "source": [
    "test_counts.sum()"
   ]
  },
  {
   "cell_type": "code",
   "execution_count": 28,
   "id": "e51eeef9-ff06-4f13-a1f5-64dc6cdb99a9",
   "metadata": {},
   "outputs": [
    {
     "data": {
      "text/plain": [
       "0.05867090835604115"
      ]
     },
     "execution_count": 28,
     "metadata": {},
     "output_type": "execute_result"
    }
   ],
   "source": [
    "test_counts[:10].sum() / test_counts.sum()"
   ]
  },
  {
   "cell_type": "code",
   "execution_count": null,
   "id": "52e33913-2a12-4eab-a694-2cd100f7fd20",
   "metadata": {},
   "outputs": [],
   "source": []
  }
 ],
 "metadata": {
  "kernelspec": {
   "display_name": "Python 3 (ipykernel)",
   "language": "python",
   "name": "python3"
  },
  "language_info": {
   "codemirror_mode": {
    "name": "ipython",
    "version": 3
   },
   "file_extension": ".py",
   "mimetype": "text/x-python",
   "name": "python",
   "nbconvert_exporter": "python",
   "pygments_lexer": "ipython3",
   "version": "3.8.5"
  }
 },
 "nbformat": 4,
 "nbformat_minor": 5
}
