{
 "cells": [
  {
   "cell_type": "code",
   "execution_count": 2,
   "id": "562de734-2dac-4777-bea2-3ee66d546ef0",
   "metadata": {},
   "outputs": [],
   "source": [
    "import numpy as np\n",
    "import pandas as pd\n",
    "from sklearn.model_selection import train_test_split\n",
    "import torch\n",
    "import torch.nn as nn\n",
    "from torch.utils.data import TensorDataset, DataLoader, Dataset\n",
    "import seaborn as sns\n",
    "import matplotlib.pyplot as plt"
   ]
  },
  {
   "cell_type": "code",
   "execution_count": 97,
   "id": "06e13f14-5217-4f5b-b278-a34258000917",
   "metadata": {},
   "outputs": [],
   "source": [
    "users = pd.read_csv('./data/' + 'users.csv')\n",
    "books = pd.read_csv('./data/' + 'books.csv')\n",
    "train = pd.read_csv('./data/' + 'train_ratings.csv')\n",
    "test = pd.read_csv('./data/' + 'test_ratings.csv')\n",
    "sub = pd.read_csv('./data/' + 'sample_submission.csv')"
   ]
  },
  {
   "cell_type": "code",
   "execution_count": 60,
   "id": "52e33913-2a12-4eab-a694-2cd100f7fd20",
   "metadata": {},
   "outputs": [
    {
     "data": {
      "text/plain": [
       "62059"
      ]
     },
     "execution_count": 60,
     "metadata": {},
     "output_type": "execute_result"
    }
   ],
   "source": [
    "books['book_author'].nunique() #원본"
   ]
  },
  {
   "cell_type": "code",
   "execution_count": 93,
   "id": "b7afcb27-a8f5-4019-8409-8d8264418115",
   "metadata": {},
   "outputs": [],
   "source": [
    "new = books.copy()"
   ]
  },
  {
   "cell_type": "code",
   "execution_count": 94,
   "id": "8f6c68cf-b1ee-4f1f-acf6-b36d919d85c8",
   "metadata": {},
   "outputs": [],
   "source": [
    "new['book_author'] = new['book_author'].str.replace('.','', regex=True)\n",
    "new['book_author'] = new['book_author'].str.replace('_',' ', regex=True)\n",
    "new['book_author'] = new['book_author'].str.lower()"
   ]
  },
  {
   "cell_type": "code",
   "execution_count": 95,
   "id": "38c1ddbb-f0e7-4585-a841-79aaaf0680bb",
   "metadata": {},
   "outputs": [
    {
     "data": {
      "text/plain": [
       "59448"
      ]
     },
     "execution_count": 95,
     "metadata": {},
     "output_type": "execute_result"
    }
   ],
   "source": [
    "new['book_author'].nunique() #특수문자 처리, 소문자 처리"
   ]
  },
  {
   "cell_type": "code",
   "execution_count": 96,
   "id": "e61499cf-0ee2-4922-b17d-f04183cfadce",
   "metadata": {},
   "outputs": [],
   "source": [
    "new['book_author'] = new['book_author'].apply(lambda x:' '.join(sorted(x.split())))"
   ]
  },
  {
   "cell_type": "code",
   "execution_count": 84,
   "id": "9b323558-27ec-4c31-afc4-b3234cef3b02",
   "metadata": {},
   "outputs": [
    {
     "data": {
      "text/plain": [
       "59448"
      ]
     },
     "execution_count": 84,
     "metadata": {},
     "output_type": "execute_result"
    }
   ],
   "source": [
    "new['book_author'].nunique() # 띄어쓰기 기준으로 정렬 ex) tan amy -> amy tan"
   ]
  },
  {
   "cell_type": "markdown",
   "id": "5bc921d6-47d1-4bb4-adda-00c2a0dd68c3",
   "metadata": {},
   "source": [
    "# 결과"
   ]
  },
  {
   "cell_type": "code",
   "execution_count": 73,
   "id": "4f1787fe-5a9f-4ac6-be58-713cee57da6b",
   "metadata": {},
   "outputs": [
    {
     "data": {
      "text/plain": [
       "0         bruce richard wright\n",
       "1                 carlo d'este\n",
       "2             bari gina kolata\n",
       "3                      amy tan\n",
       "4                cowley robert\n",
       "                  ...         \n",
       "149565             o'rourke pj\n",
       "149566            lightner sam\n",
       "149567           claude dooley\n",
       "149568            jeremy lloyd\n",
       "149569                  mapsco\n",
       "Name: book_author, Length: 149570, dtype: object"
      ]
     },
     "execution_count": 73,
     "metadata": {},
     "output_type": "execute_result"
    }
   ],
   "source": [
    "books['book_author']"
   ]
  },
  {
   "cell_type": "code",
   "execution_count": 77,
   "id": "25924978-3645-41c0-b987-f6fd8ec4d5e6",
   "metadata": {},
   "outputs": [],
   "source": [
    "book_author = books.groupby('book_author')['isbn'].count().sort_values(ascending=False)\n"
   ]
  },
  {
   "cell_type": "code",
   "execution_count": 78,
   "id": "2baae2aa-bd5c-4899-847e-882e82dcf226",
   "metadata": {
    "tags": []
   },
   "outputs": [
    {
     "data": {
      "text/plain": [
       "book_author\n",
       "king stephen           453\n",
       "agatha christie        407\n",
       "shakespeare william    384\n",
       "barbara cartland       284\n",
       "nora roberts           245\n",
       "asimov isaac           209\n",
       "pratchett terry        198\n",
       "charles dickens        192\n",
       "ann m martin           185\n",
       "carolyn keene          185\n",
       "Name: isbn, dtype: int64"
      ]
     },
     "execution_count": 78,
     "metadata": {},
     "output_type": "execute_result"
    }
   ],
   "source": [
    "book_author[:10]"
   ]
  },
  {
   "cell_type": "code",
   "execution_count": 104,
   "id": "0a2ff8e5-8a02-41c0-839b-1cce5f4f990d",
   "metadata": {
    "tags": []
   },
   "outputs": [
    {
     "data": {
      "text/plain": [
       "array(['Robert Cowley', 'Scott Turow', 'Celia Brooks Brown', ...,\n",
       "       'Gary Carnow', 'Paula Underwood', 'Andrea Pinto Lebowitz'],\n",
       "      dtype=object)"
      ]
     },
     "execution_count": 104,
     "metadata": {},
     "output_type": "execute_result"
    }
   ],
   "source": [
    "books[books['book_author'].str.contains('w')]['book_author'].unique()\n",
    "             "
   ]
  },
  {
   "cell_type": "code",
   "execution_count": 105,
   "id": "15e82419-9bd4-4969-b7a5-2a45ccdc5191",
   "metadata": {},
   "outputs": [
    {
     "data": {
      "text/plain": [
       "array(['bruce richard wright', 'cowley robert', 'scott turow', ...,\n",
       "       'kathleen mcwhorter t', 'andrea lebowitz pinto', 'fiennes william'],\n",
       "      dtype=object)"
      ]
     },
     "execution_count": 105,
     "metadata": {},
     "output_type": "execute_result"
    }
   ],
   "source": [
    "new[new['book_author'].str.contains('w')]['book_author'].unique()"
   ]
  },
  {
   "cell_type": "code",
   "execution_count": null,
   "id": "01328074-1b7b-4f0b-bde1-4d120f335fec",
   "metadata": {},
   "outputs": [],
   "source": []
  }
 ],
 "metadata": {
  "kernelspec": {
   "display_name": "Python 3 (ipykernel)",
   "language": "python",
   "name": "python3"
  },
  "language_info": {
   "codemirror_mode": {
    "name": "ipython",
    "version": 3
   },
   "file_extension": ".py",
   "mimetype": "text/x-python",
   "name": "python",
   "nbconvert_exporter": "python",
   "pygments_lexer": "ipython3",
   "version": "3.8.5"
  }
 },
 "nbformat": 4,
 "nbformat_minor": 5
}
