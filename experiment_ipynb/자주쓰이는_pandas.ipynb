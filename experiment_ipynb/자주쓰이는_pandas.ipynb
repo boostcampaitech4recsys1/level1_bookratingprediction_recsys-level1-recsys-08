{
 "cells": [
  {
   "cell_type": "markdown",
   "id": "3f7baff9-9a46-4dcf-a8a1-33ea179df004",
   "metadata": {},
   "source": [
    "## 자주 쓰이는 pandas"
   ]
  },
  {
   "cell_type": "code",
   "execution_count": null,
   "id": "d94e4b9a-4361-4d8e-99cc-8bdbeb39e7c6",
   "metadata": {},
   "outputs": [],
   "source": [
    "#필터링\n",
    "books[books['book_author'].str.contains('w')]['book_author'].unique()"
   ]
  },
  {
   "cell_type": "code",
   "execution_count": null,
   "id": "55733f2b-349d-4851-8a9a-01b4fdabd950",
   "metadata": {},
   "outputs": [],
   "source": [
    "#test 데이터에만 있는 유저수 확인\n",
    "len(set(test['user_id']) - set(train['user_id']))"
   ]
  },
  {
   "cell_type": "code",
   "execution_count": null,
   "id": "c5d513ea-757f-4da0-b490-b01007c9292c",
   "metadata": {},
   "outputs": [],
   "source": [
    "#corr heat map 만들기\n",
    "plt.figure(figsize = (10, 10))\n",
    "sns.heatmap(test_df.corr(), linewidths=0.1, vmax=1, cmap='RdYlBu_r', linecolor='white',annot=True)\n",
    "plt.show()"
   ]
  },
  {
   "cell_type": "code",
   "execution_count": null,
   "id": "a90b2675-83de-4542-8072-63a77eea0f93",
   "metadata": {},
   "outputs": [],
   "source": [
    "#rating과 users, books merge\n",
    "test_df = train.merge(users, how=\"left\", on='user_id')\n",
    "test_df = test_df.merge(books, how=\"left\", on='isbn')"
   ]
  }
 ],
 "metadata": {
  "kernelspec": {
   "display_name": "Python 3 (ipykernel)",
   "language": "python",
   "name": "python3"
  },
  "language_info": {
   "codemirror_mode": {
    "name": "ipython",
    "version": 3
   },
   "file_extension": ".py",
   "mimetype": "text/x-python",
   "name": "python",
   "nbconvert_exporter": "python",
   "pygments_lexer": "ipython3",
   "version": "3.8.5"
  }
 },
 "nbformat": 4,
 "nbformat_minor": 5
}
