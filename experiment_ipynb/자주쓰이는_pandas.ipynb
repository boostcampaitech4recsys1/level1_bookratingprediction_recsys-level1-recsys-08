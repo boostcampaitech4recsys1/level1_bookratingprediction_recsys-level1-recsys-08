{
 "cells": [
  {
   "cell_type": "markdown",
   "id": "3f7baff9-9a46-4dcf-a8a1-33ea179df004",
   "metadata": {},
   "source": [
    "## 자주 쓰이는 pandas"
   ]
  },
  {
   "cell_type": "code",
   "execution_count": null,
   "id": "1423b815-5e35-4874-a000-b5daacac4ab0",
   "metadata": {},
   "outputs": [],
   "source": [
    "users:68,092 book:149,570개 train:306,795건 / test:26,167명의 사용자(user)가 52,000개의 책(item) 76,699건"
   ]
  },
  {
   "cell_type": "code",
   "execution_count": null,
   "id": "d94e4b9a-4361-4d8e-99cc-8bdbeb39e7c6",
   "metadata": {},
   "outputs": [],
   "source": [
    "#필터링\n",
    "books[books['book_author'].str.contains('w')]['book_author'].unique()"
   ]
  },
  {
   "cell_type": "code",
   "execution_count": null,
   "id": "55733f2b-349d-4851-8a9a-01b4fdabd950",
   "metadata": {},
   "outputs": [],
   "source": [
    "#test 데이터에만 있는 유저수 확인\n",
    "len(set(test['user_id']) - set(train['user_id']))"
   ]
  },
  {
   "cell_type": "code",
   "execution_count": null,
   "id": "c5d513ea-757f-4da0-b490-b01007c9292c",
   "metadata": {},
   "outputs": [],
   "source": [
    "#corr heat map 그래프 만들기\n",
    "plt.figure(figsize = (10, 10))\n",
    "sns.heatmap(test_df.corr(), linewidths=0.1, vmax=1, cmap='RdYlBu_r', linecolor='white',annot=True)\n",
    "plt.show()"
   ]
  },
  {
   "cell_type": "code",
   "execution_count": null,
   "id": "f7ea843c-6740-4c5e-b356-e51a1a4f4c83",
   "metadata": {},
   "outputs": [],
   "source": [
    "#분포를 히스토그램 그래프로 나타내기\n",
    "plt.hist(users['age'])\n",
    "plt.show()"
   ]
  },
  {
   "cell_type": "code",
   "execution_count": null,
   "id": "a90b2675-83de-4542-8072-63a77eea0f93",
   "metadata": {},
   "outputs": [],
   "source": [
    "#rating과 users, books merge\n",
    "test_df = train.merge(users, how=\"left\", on='user_id')\n",
    "test_df = test_df.merge(books, how=\"left\", on='isbn')"
   ]
  },
  {
   "cell_type": "code",
   "execution_count": null,
   "id": "eafbccc6-4c7d-4ac6-8072-113d87f67135",
   "metadata": {},
   "outputs": [],
   "source": [
    "#pandas 생략(...)없이 출력\n",
    "pd.set_option('display.max_rows', None)\n",
    "#pandas 30줄까지만 출력\n",
    "pd.set_option('display.max_rows', 30)"
   ]
  },
  {
   "cell_type": "code",
   "execution_count": null,
   "id": "4bc9a5ef-5dd5-4eb9-b3e9-0769692d6c0e",
   "metadata": {
    "tags": []
   },
   "outputs": [],
   "source": [
    "#각 작가별 쓴 책(isbn) 수 정렬\n",
    "book_author = books.groupby('book_author')['isbn'].count().sort_values(by=['rating'], ascending = False)\n"
   ]
  },
  {
   "cell_type": "code",
   "execution_count": null,
   "id": "58290534-07f1-481a-a639-4056c03f3aa4",
   "metadata": {},
   "outputs": [],
   "source": [
    "#열에서 무슨 값이 몇개 있는지 count : isbn이 09..인 책의 각 rating(1~10) 수\n",
    "test_df[test_df['isbn']=='0971880107']['rating'].value_counts()"
   ]
  },
  {
   "cell_type": "code",
   "execution_count": null,
   "id": "31732a12-69ef-4449-a39e-a409b173cd0f",
   "metadata": {},
   "outputs": [],
   "source": [
    "#열이 몇개인지 count\n",
    "test_df[test_df['isbn']=='0971880107']['rating'].count()"
   ]
  },
  {
   "cell_type": "code",
   "execution_count": null,
   "id": "9570df9a-0037-4400-94b6-1c63aee62c08",
   "metadata": {},
   "outputs": [],
   "source": [
    "#시리즈를 frame으로 변환후 merge\n",
    "one_ratio_df = one_book_df.to_frame().merge(count_df, how='left', on='isbn')\n",
    "one_ratio_df"
   ]
  },
  {
   "cell_type": "code",
   "execution_count": null,
   "id": "df1c8427-79c2-46ad-9c33-346d9ea1ff4b",
   "metadata": {},
   "outputs": [],
   "source": [
    "#인덱스를 'isbn'으로 바꾸기\n",
    "index_isbn_df = train.set_index(keys=['isbn'], inplace=False)"
   ]
  },
  {
   "cell_type": "code",
   "execution_count": null,
   "id": "d0574f84-ecfd-4ca1-98c7-8ccd79d7f2ff",
   "metadata": {},
   "outputs": [],
   "source": [
    "#delete_isbn에 있는 인덱스면 행 삭제\n",
    "index_isbn_df.drop(delete_isbn, axis=0, inplace=True)"
   ]
  },
  {
   "cell_type": "code",
   "execution_count": null,
   "id": "9ed48c8e-f659-4f54-9f35-4947f5b39201",
   "metadata": {},
   "outputs": [],
   "source": [
    "#drop 열\n",
    "train = tmp.drop(['cnt'], axis=1)"
   ]
  },
  {
   "cell_type": "code",
   "execution_count": null,
   "id": "8a3a2348-fb78-419a-ba40-22d7e53afb26",
   "metadata": {},
   "outputs": [],
   "source": [
    "#결측값 없애주기. 여기선 age가 결측값인 user행을 제거\n",
    "users.dropna(subset=['age'])"
   ]
  },
  {
   "cell_type": "code",
   "execution_count": null,
   "id": "08d304ab-e5d0-4316-b919-0165de3ac6ad",
   "metadata": {},
   "outputs": [],
   "source": [
    "#새 인덱스 추가\n",
    "df.reset_index()"
   ]
  },
  {
   "cell_type": "code",
   "execution_count": null,
   "id": "16662be6-8827-4557-9547-449fe5698dae",
   "metadata": {},
   "outputs": [],
   "source": [
    "#컬럼명 변경해주기\n",
    "df.rename(columns={'Before':'After'})"
   ]
  },
  {
   "cell_type": "code",
   "execution_count": null,
   "id": "964322c7-d092-4bf0-b2cb-dc7d46e88cbd",
   "metadata": {},
   "outputs": [],
   "source": [
    "#컬럼의 각 내용을 형변환해주기\n",
    "rating_time['cnt']=rating_time['cnt'].astype(str)"
   ]
  },
  {
   "cell_type": "code",
   "execution_count": null,
   "id": "9f45b81b-b6d3-4b7b-9fe2-fad153d130b2",
   "metadata": {},
   "outputs": [],
   "source": [
    "#컬럼 값 조건 변경\n",
    "tmp.loc[tmp['cnt'] == '1', 'rating'] = tmp['rating']-(tmp['rating']-total_avg)*0.5831"
   ]
  },
  {
   "cell_type": "code",
   "execution_count": null,
   "id": "1431c7ae-0691-42bb-965b-8dad716eb324",
   "metadata": {},
   "outputs": [],
   "source": [
    "#결측값 채우기\n",
    "users['age'] = users['age'].fillna(int(users['age'].mean()))"
   ]
  },
  {
   "cell_type": "code",
   "execution_count": null,
   "id": "468ee28b-b7e8-44a8-b3d1-1d6ec17c67ec",
   "metadata": {},
   "outputs": [],
   "source": [
    "#True/False를 새 컬럼에 저장\n",
    "train['one_two'] = (train['rating'] == 1) | (train['rating'] == 2)"
   ]
  },
  {
   "cell_type": "code",
   "execution_count": null,
   "id": "0e540e95-c56c-41ff-b885-7910770033ad",
   "metadata": {},
   "outputs": [],
   "source": [
    "#두 컬럼을 합친 후 새 컬럼에 저장\n",
    "train['user_book'] = train['user_id'].astype(str)+train['isbn']"
   ]
  },
  {
   "cell_type": "code",
   "execution_count": null,
   "id": "ea49c868-35fc-45ba-90de-1d8c47d69e80",
   "metadata": {},
   "outputs": [],
   "source": [
    "#두 데이터프레임을 행기준 붙이기\n",
    "train = pd.concat([train_one_two, train_other])"
   ]
  },
  {
   "cell_type": "code",
   "execution_count": null,
   "id": "3a80d846-ec82-430b-affa-f38e92f7e80b",
   "metadata": {},
   "outputs": [],
   "source": [
    "#df에서 랜덤 행 추출\n",
    "train_other = train_other.sample(n = 26178)"
   ]
  }
 ],
 "metadata": {
  "kernelspec": {
   "display_name": "Python 3 (ipykernel)",
   "language": "python",
   "name": "python3"
  },
  "language_info": {
   "codemirror_mode": {
    "name": "ipython",
    "version": 3
   },
   "file_extension": ".py",
   "mimetype": "text/x-python",
   "name": "python",
   "nbconvert_exporter": "python",
   "pygments_lexer": "ipython3",
   "version": "3.8.5"
  }
 },
 "nbformat": 4,
 "nbformat_minor": 5
}
