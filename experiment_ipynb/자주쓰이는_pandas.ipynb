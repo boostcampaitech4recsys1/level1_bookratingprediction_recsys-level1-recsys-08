{
 "cells": [
  {
   "cell_type": "markdown",
   "id": "3f7baff9-9a46-4dcf-a8a1-33ea179df004",
   "metadata": {},
   "source": [
    "## 자주 쓰이는 pandas"
   ]
  },
  {
   "cell_type": "code",
   "execution_count": null,
   "id": "1423b815-5e35-4874-a000-b5daacac4ab0",
   "metadata": {},
   "outputs": [],
   "source": [
    "book:149,570개 train:306,795건"
   ]
  },
  {
   "cell_type": "code",
   "execution_count": null,
   "id": "d94e4b9a-4361-4d8e-99cc-8bdbeb39e7c6",
   "metadata": {},
   "outputs": [],
   "source": [
    "#필터링\n",
    "books[books['book_author'].str.contains('w')]['book_author'].unique()"
   ]
  },
  {
   "cell_type": "code",
   "execution_count": null,
   "id": "55733f2b-349d-4851-8a9a-01b4fdabd950",
   "metadata": {},
   "outputs": [],
   "source": [
    "#test 데이터에만 있는 유저수 확인\n",
    "len(set(test['user_id']) - set(train['user_id']))"
   ]
  },
  {
   "cell_type": "code",
   "execution_count": null,
   "id": "c5d513ea-757f-4da0-b490-b01007c9292c",
   "metadata": {},
   "outputs": [],
   "source": [
    "#corr heat map 만들기\n",
    "plt.figure(figsize = (10, 10))\n",
    "sns.heatmap(test_df.corr(), linewidths=0.1, vmax=1, cmap='RdYlBu_r', linecolor='white',annot=True)\n",
    "plt.show()"
   ]
  },
  {
   "cell_type": "code",
   "execution_count": null,
   "id": "a90b2675-83de-4542-8072-63a77eea0f93",
   "metadata": {},
   "outputs": [],
   "source": [
    "#rating과 users, books merge\n",
    "test_df = train.merge(users, how=\"left\", on='user_id')\n",
    "test_df = test_df.merge(books, how=\"left\", on='isbn')"
   ]
  },
  {
   "cell_type": "code",
   "execution_count": null,
   "id": "eafbccc6-4c7d-4ac6-8072-113d87f67135",
   "metadata": {},
   "outputs": [],
   "source": [
    "#pandas 생략(...)없이 출력\n",
    "pd.set_option('display.max_rows', None)\n",
    "#pandas 30줄까지만 출력\n",
    "pd.set_option('display.max_rows', 30)"
   ]
  },
  {
   "cell_type": "code",
   "execution_count": null,
   "id": "4bc9a5ef-5dd5-4eb9-b3e9-0769692d6c0e",
   "metadata": {
    "collapsed": true,
    "jupyter": {
     "outputs_hidden": true
    },
    "tags": []
   },
   "outputs": [
    {
     "ename": "NameError",
     "evalue": "name 'books' is not defined",
     "output_type": "error",
     "traceback": [
      "\u001b[0;31m---------------------------------------------------------------------------\u001b[0m",
      "\u001b[0;31mNameError\u001b[0m                                 Traceback (most recent call last)",
      "Cell \u001b[0;32mIn [1], line 2\u001b[0m\n\u001b[1;32m      1\u001b[0m \u001b[38;5;66;03m#각 작가별 쓴 책(isbn) 수\u001b[39;00m\n\u001b[0;32m----> 2\u001b[0m book_author \u001b[38;5;241m=\u001b[39m \u001b[43mbooks\u001b[49m\u001b[38;5;241m.\u001b[39mgroupby(\u001b[38;5;124m'\u001b[39m\u001b[38;5;124mbook_author\u001b[39m\u001b[38;5;124m'\u001b[39m)[\u001b[38;5;124m'\u001b[39m\u001b[38;5;124misbn\u001b[39m\u001b[38;5;124m'\u001b[39m]\u001b[38;5;241m.\u001b[39mcount()\u001b[38;5;241m.\u001b[39msort_values(by\u001b[38;5;241m=\u001b[39m[\u001b[38;5;124m'\u001b[39m\u001b[38;5;124mrating\u001b[39m\u001b[38;5;124m'\u001b[39m], ascending \u001b[38;5;241m=\u001b[39m \u001b[38;5;28;01mFalse\u001b[39;00m)\n",
      "\u001b[0;31mNameError\u001b[0m: name 'books' is not defined"
     ]
    }
   ],
   "source": [
    "#각 작가별 쓴 책(isbn) 수 정렬\n",
    "book_author = books.groupby('book_author')['isbn'].count().sort_values(by=['rating'], ascending = False)\n"
   ]
  },
  {
   "cell_type": "code",
   "execution_count": null,
   "id": "58290534-07f1-481a-a639-4056c03f3aa4",
   "metadata": {},
   "outputs": [],
   "source": [
    "#열에서 무슨 값이 몇개 있는지 count : isbn이 09..인 책의 각 rating(1~10) 수\n",
    "test_df[test_df['isbn']=='0971880107']['rating'].value_counts()"
   ]
  },
  {
   "cell_type": "code",
   "execution_count": null,
   "id": "31732a12-69ef-4449-a39e-a409b173cd0f",
   "metadata": {},
   "outputs": [],
   "source": [
    "#열이 몇개인지 count\n",
    "test_df[test_df['isbn']=='0971880107']['rating'].count()"
   ]
  },
  {
   "cell_type": "code",
   "execution_count": null,
   "id": "9570df9a-0037-4400-94b6-1c63aee62c08",
   "metadata": {},
   "outputs": [],
   "source": [
    "#시리즈를 frame으로 변환후 merge\n",
    "one_ratio_df = one_book_df.to_frame().merge(count_df, how='left', on='isbn')\n",
    "one_ratio_df"
   ]
  },
  {
   "cell_type": "code",
   "execution_count": null,
   "id": "df1c8427-79c2-46ad-9c33-346d9ea1ff4b",
   "metadata": {},
   "outputs": [],
   "source": [
    "#인덱스를 'isbn'으로 바꾸기\n",
    "index_isbn_df = train.set_index(keys=['isbn'], inplace=False)"
   ]
  },
  {
   "cell_type": "code",
   "execution_count": null,
   "id": "d0574f84-ecfd-4ca1-98c7-8ccd79d7f2ff",
   "metadata": {},
   "outputs": [],
   "source": [
    "#delete_isbn에 있는 인덱스면 행 삭제\n",
    "index_isbn_df.drop(delete_isbn, axis=0, inplace=True)"
   ]
  },
  {
   "cell_type": "code",
   "execution_count": null,
   "id": "9ed48c8e-f659-4f54-9f35-4947f5b39201",
   "metadata": {},
   "outputs": [],
   "source": [
    "#drop 열\n",
    "train = tmp.drop(['cnt'], axis=1)"
   ]
  },
  {
   "cell_type": "code",
   "execution_count": null,
   "id": "08d304ab-e5d0-4316-b919-0165de3ac6ad",
   "metadata": {},
   "outputs": [],
   "source": [
    "#새 인덱스 추가\n",
    "df.reset_index()"
   ]
  },
  {
   "cell_type": "code",
   "execution_count": null,
   "id": "16662be6-8827-4557-9547-449fe5698dae",
   "metadata": {},
   "outputs": [],
   "source": [
    "#컬럼명 변경해주기\n",
    "df.rename(columns={'Before':'After'})"
   ]
  },
  {
   "cell_type": "code",
   "execution_count": null,
   "id": "964322c7-d092-4bf0-b2cb-dc7d46e88cbd",
   "metadata": {},
   "outputs": [],
   "source": [
    "#컬럼의 각 내용을 형변환해주기\n",
    "rating_time['cnt']=rating_time['cnt'].astype(str)"
   ]
  },
  {
   "cell_type": "code",
   "execution_count": null,
   "id": "9f45b81b-b6d3-4b7b-9fe2-fad153d130b2",
   "metadata": {},
   "outputs": [],
   "source": [
    "#컬럼 값 조건 변경\n",
    "tmp.loc[tmp['cnt'] == '1', 'rating'] = tmp['rating']-(tmp['rating']-total_avg)*0.5831"
   ]
  }
 ],
 "metadata": {
  "kernelspec": {
   "display_name": "Python 3 (ipykernel)",
   "language": "python",
   "name": "python3"
  },
  "language_info": {
   "codemirror_mode": {
    "name": "ipython",
    "version": 3
   },
   "file_extension": ".py",
   "mimetype": "text/x-python",
   "name": "python",
   "nbconvert_exporter": "python",
   "pygments_lexer": "ipython3",
   "version": "3.8.5"
  }
 },
 "nbformat": 4,
 "nbformat_minor": 5
}
